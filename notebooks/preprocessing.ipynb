{
 "cells": [
  {
   "cell_type": "code",
   "execution_count": 7,
   "metadata": {},
   "outputs": [],
   "source": [
    "# Using Apache Spark for the preprocessing\n",
    "from pyspark.sql import SparkSession\n",
    "SPARK_SESSION = SparkSession.builder.appName(\"Spark builder\").getOrCreate()"
   ]
  }
 ],
 "metadata": {
  "interpreter": {
   "hash": "227f792da0f6ad2096ba6827abad12bec8204d048867e99faf812469bc2d14d6"
  },
  "kernelspec": {
   "display_name": "Python 3.9.7 64-bit ('venv': venv)",
   "language": "python",
   "name": "python3"
  },
  "language_info": {
   "codemirror_mode": {
    "name": "ipython",
    "version": 3
   },
   "file_extension": ".py",
   "mimetype": "text/x-python",
   "name": "python",
   "nbconvert_exporter": "python",
   "pygments_lexer": "ipython3",
   "version": "3.9.7"
  },
  "orig_nbformat": 4
 },
 "nbformat": 4,
 "nbformat_minor": 2
}
