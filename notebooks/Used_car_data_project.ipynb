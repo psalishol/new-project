{
  "cells": [
    {
      "cell_type": "markdown",
      "metadata": {
        "id": "eJoJHDe8ESoZ"
      },
      "source": [
        "# Necessary Libraries for preprocessing"
      ]
    },
    {
      "cell_type": "code",
      "execution_count": 1,
      "metadata": {
        "colab": {
          "base_uri": "https://localhost:8080/"
        },
        "id": "6SXHl3VS9bUS",
        "outputId": "fbc924cb-05e0-4e98-f886-0f66b9d5a4e3"
      },
      "outputs": [
        {
          "name": "stderr",
          "output_type": "stream",
          "text": [
            "/usr/local/lib/python3.7/dist-packages/statsmodels/tools/_testing.py:19: FutureWarning:\n",
            "\n",
            "pandas.util.testing is deprecated. Use the functions in the public API at pandas.testing instead.\n",
            "\n"
          ]
        }
      ],
      "source": [
        "import pandas as pd\n",
        "import numpy as np\n",
        "import seaborn as sns\n",
        "import matplotlib.pyplot as plt\n",
        "import plotly.express as px\n",
        "import plotly.graph_objects as go\n",
        "import warnings\n",
        "\n",
        "import time\n",
        "\n",
        "from sklearn.preprocessing import LabelEncoder\n",
        "from sklearn.ensemble import RandomForestRegressor\n",
        "import xgboost as xgb\n",
        "import statsmodels.api as sm\n",
        "\n",
        "# Some configuration\n",
        "%matplotlib inline\n",
        "warnings.filterwarnings(\"ignore\")\n",
        "pd.set_option(\"display.max_columns\",None)\n",
        "pd.set_option(\"display.max_rows\",None)"
      ]
    },
    {
      "cell_type": "markdown",
      "metadata": {
        "id": "YsdY-U5_9dYV"
      },
      "source": [
        "# Kaggle Configuration for Importing the data\n"
      ]
    },
    {
      "cell_type": "code",
      "execution_count": 2,
      "metadata": {
        "id": "rdHHfodU9y6K"
      },
      "outputs": [],
      "source": [
        "# Installing kaggle\n",
        "! pip install -q kaggle"
      ]
    },
    {
      "cell_type": "code",
      "execution_count": 4,
      "metadata": {
        "colab": {
          "base_uri": "https://localhost:8080/",
          "height": 92,
          "resources": {
            "http://localhost:8080/nbextensions/google.colab/files.js": {
              "data": "Ly8gQ29weXJpZ2h0IDIwMTcgR29vZ2xlIExMQwovLwovLyBMaWNlbnNlZCB1bmRlciB0aGUgQXBhY2hlIExpY2Vuc2UsIFZlcnNpb24gMi4wICh0aGUgIkxpY2Vuc2UiKTsKLy8geW91IG1heSBub3QgdXNlIHRoaXMgZmlsZSBleGNlcHQgaW4gY29tcGxpYW5jZSB3aXRoIHRoZSBMaWNlbnNlLgovLyBZb3UgbWF5IG9idGFpbiBhIGNvcHkgb2YgdGhlIExpY2Vuc2UgYXQKLy8KLy8gICAgICBodHRwOi8vd3d3LmFwYWNoZS5vcmcvbGljZW5zZXMvTElDRU5TRS0yLjAKLy8KLy8gVW5sZXNzIHJlcXVpcmVkIGJ5IGFwcGxpY2FibGUgbGF3IG9yIGFncmVlZCB0byBpbiB3cml0aW5nLCBzb2Z0d2FyZQovLyBkaXN0cmlidXRlZCB1bmRlciB0aGUgTGljZW5zZSBpcyBkaXN0cmlidXRlZCBvbiBhbiAiQVMgSVMiIEJBU0lTLAovLyBXSVRIT1VUIFdBUlJBTlRJRVMgT1IgQ09ORElUSU9OUyBPRiBBTlkgS0lORCwgZWl0aGVyIGV4cHJlc3Mgb3IgaW1wbGllZC4KLy8gU2VlIHRoZSBMaWNlbnNlIGZvciB0aGUgc3BlY2lmaWMgbGFuZ3VhZ2UgZ292ZXJuaW5nIHBlcm1pc3Npb25zIGFuZAovLyBsaW1pdGF0aW9ucyB1bmRlciB0aGUgTGljZW5zZS4KCi8qKgogKiBAZmlsZW92ZXJ2aWV3IEhlbHBlcnMgZm9yIGdvb2dsZS5jb2xhYiBQeXRob24gbW9kdWxlLgogKi8KKGZ1bmN0aW9uKHNjb3BlKSB7CmZ1bmN0aW9uIHNwYW4odGV4dCwgc3R5bGVBdHRyaWJ1dGVzID0ge30pIHsKICBjb25zdCBlbGVtZW50ID0gZG9jdW1lbnQuY3JlYXRlRWxlbWVudCgnc3BhbicpOwogIGVsZW1lbnQudGV4dENvbnRlbnQgPSB0ZXh0OwogIGZvciAoY29uc3Qga2V5IG9mIE9iamVjdC5rZXlzKHN0eWxlQXR0cmlidXRlcykpIHsKICAgIGVsZW1lbnQuc3R5bGVba2V5XSA9IHN0eWxlQXR0cmlidXRlc1trZXldOwogIH0KICByZXR1cm4gZWxlbWVudDsKfQoKLy8gTWF4IG51bWJlciBvZiBieXRlcyB3aGljaCB3aWxsIGJlIHVwbG9hZGVkIGF0IGEgdGltZS4KY29uc3QgTUFYX1BBWUxPQURfU0laRSA9IDEwMCAqIDEwMjQ7CgpmdW5jdGlvbiBfdXBsb2FkRmlsZXMoaW5wdXRJZCwgb3V0cHV0SWQpIHsKICBjb25zdCBzdGVwcyA9IHVwbG9hZEZpbGVzU3RlcChpbnB1dElkLCBvdXRwdXRJZCk7CiAgY29uc3Qgb3V0cHV0RWxlbWVudCA9IGRvY3VtZW50LmdldEVsZW1lbnRCeUlkKG91dHB1dElkKTsKICAvLyBDYWNoZSBzdGVwcyBvbiB0aGUgb3V0cHV0RWxlbWVudCB0byBtYWtlIGl0IGF2YWlsYWJsZSBmb3IgdGhlIG5leHQgY2FsbAogIC8vIHRvIHVwbG9hZEZpbGVzQ29udGludWUgZnJvbSBQeXRob24uCiAgb3V0cHV0RWxlbWVudC5zdGVwcyA9IHN0ZXBzOwoKICByZXR1cm4gX3VwbG9hZEZpbGVzQ29udGludWUob3V0cHV0SWQpOwp9CgovLyBUaGlzIGlzIHJvdWdobHkgYW4gYXN5bmMgZ2VuZXJhdG9yIChub3Qgc3VwcG9ydGVkIGluIHRoZSBicm93c2VyIHlldCksCi8vIHdoZXJlIHRoZXJlIGFyZSBtdWx0aXBsZSBhc3luY2hyb25vdXMgc3RlcHMgYW5kIHRoZSBQeXRob24gc2lkZSBpcyBnb2luZwovLyB0byBwb2xsIGZvciBjb21wbGV0aW9uIG9mIGVhY2ggc3RlcC4KLy8gVGhpcyB1c2VzIGEgUHJvbWlzZSB0byBibG9jayB0aGUgcHl0aG9uIHNpZGUgb24gY29tcGxldGlvbiBvZiBlYWNoIHN0ZXAsCi8vIHRoZW4gcGFzc2VzIHRoZSByZXN1bHQgb2YgdGhlIHByZXZpb3VzIHN0ZXAgYXMgdGhlIGlucHV0IHRvIHRoZSBuZXh0IHN0ZXAuCmZ1bmN0aW9uIF91cGxvYWRGaWxlc0NvbnRpbnVlKG91dHB1dElkKSB7CiAgY29uc3Qgb3V0cHV0RWxlbWVudCA9IGRvY3VtZW50LmdldEVsZW1lbnRCeUlkKG91dHB1dElkKTsKICBjb25zdCBzdGVwcyA9IG91dHB1dEVsZW1lbnQuc3RlcHM7CgogIGNvbnN0IG5leHQgPSBzdGVwcy5uZXh0KG91dHB1dEVsZW1lbnQubGFzdFByb21pc2VWYWx1ZSk7CiAgcmV0dXJuIFByb21pc2UucmVzb2x2ZShuZXh0LnZhbHVlLnByb21pc2UpLnRoZW4oKHZhbHVlKSA9PiB7CiAgICAvLyBDYWNoZSB0aGUgbGFzdCBwcm9taXNlIHZhbHVlIHRvIG1ha2UgaXQgYXZhaWxhYmxlIHRvIHRoZSBuZXh0CiAgICAvLyBzdGVwIG9mIHRoZSBnZW5lcmF0b3IuCiAgICBvdXRwdXRFbGVtZW50Lmxhc3RQcm9taXNlVmFsdWUgPSB2YWx1ZTsKICAgIHJldHVybiBuZXh0LnZhbHVlLnJlc3BvbnNlOwogIH0pOwp9CgovKioKICogR2VuZXJhdG9yIGZ1bmN0aW9uIHdoaWNoIGlzIGNhbGxlZCBiZXR3ZWVuIGVhY2ggYXN5bmMgc3RlcCBvZiB0aGUgdXBsb2FkCiAqIHByb2Nlc3MuCiAqIEBwYXJhbSB7c3RyaW5nfSBpbnB1dElkIEVsZW1lbnQgSUQgb2YgdGhlIGlucHV0IGZpbGUgcGlja2VyIGVsZW1lbnQuCiAqIEBwYXJhbSB7c3RyaW5nfSBvdXRwdXRJZCBFbGVtZW50IElEIG9mIHRoZSBvdXRwdXQgZGlzcGxheS4KICogQHJldHVybiB7IUl0ZXJhYmxlPCFPYmplY3Q+fSBJdGVyYWJsZSBvZiBuZXh0IHN0ZXBzLgogKi8KZnVuY3Rpb24qIHVwbG9hZEZpbGVzU3RlcChpbnB1dElkLCBvdXRwdXRJZCkgewogIGNvbnN0IGlucHV0RWxlbWVudCA9IGRvY3VtZW50LmdldEVsZW1lbnRCeUlkKGlucHV0SWQpOwogIGlucHV0RWxlbWVudC5kaXNhYmxlZCA9IGZhbHNlOwoKICBjb25zdCBvdXRwdXRFbGVtZW50ID0gZG9jdW1lbnQuZ2V0RWxlbWVudEJ5SWQob3V0cHV0SWQpOwogIG91dHB1dEVsZW1lbnQuaW5uZXJIVE1MID0gJyc7CgogIGNvbnN0IHBpY2tlZFByb21pc2UgPSBuZXcgUHJvbWlzZSgocmVzb2x2ZSkgPT4gewogICAgaW5wdXRFbGVtZW50LmFkZEV2ZW50TGlzdGVuZXIoJ2NoYW5nZScsIChlKSA9PiB7CiAgICAgIHJlc29sdmUoZS50YXJnZXQuZmlsZXMpOwogICAgfSk7CiAgfSk7CgogIGNvbnN0IGNhbmNlbCA9IGRvY3VtZW50LmNyZWF0ZUVsZW1lbnQoJ2J1dHRvbicpOwogIGlucHV0RWxlbWVudC5wYXJlbnRFbGVtZW50LmFwcGVuZENoaWxkKGNhbmNlbCk7CiAgY2FuY2VsLnRleHRDb250ZW50ID0gJ0NhbmNlbCB1cGxvYWQnOwogIGNvbnN0IGNhbmNlbFByb21pc2UgPSBuZXcgUHJvbWlzZSgocmVzb2x2ZSkgPT4gewogICAgY2FuY2VsLm9uY2xpY2sgPSAoKSA9PiB7CiAgICAgIHJlc29sdmUobnVsbCk7CiAgICB9OwogIH0pOwoKICAvLyBXYWl0IGZvciB0aGUgdXNlciB0byBwaWNrIHRoZSBmaWxlcy4KICBjb25zdCBmaWxlcyA9IHlpZWxkIHsKICAgIHByb21pc2U6IFByb21pc2UucmFjZShbcGlja2VkUHJvbWlzZSwgY2FuY2VsUHJvbWlzZV0pLAogICAgcmVzcG9uc2U6IHsKICAgICAgYWN0aW9uOiAnc3RhcnRpbmcnLAogICAgfQogIH07CgogIGNhbmNlbC5yZW1vdmUoKTsKCiAgLy8gRGlzYWJsZSB0aGUgaW5wdXQgZWxlbWVudCBzaW5jZSBmdXJ0aGVyIHBpY2tzIGFyZSBub3QgYWxsb3dlZC4KICBpbnB1dEVsZW1lbnQuZGlzYWJsZWQgPSB0cnVlOwoKICBpZiAoIWZpbGVzKSB7CiAgICByZXR1cm4gewogICAgICByZXNwb25zZTogewogICAgICAgIGFjdGlvbjogJ2NvbXBsZXRlJywKICAgICAgfQogICAgfTsKICB9CgogIGZvciAoY29uc3QgZmlsZSBvZiBmaWxlcykgewogICAgY29uc3QgbGkgPSBkb2N1bWVudC5jcmVhdGVFbGVtZW50KCdsaScpOwogICAgbGkuYXBwZW5kKHNwYW4oZmlsZS5uYW1lLCB7Zm9udFdlaWdodDogJ2JvbGQnfSkpOwogICAgbGkuYXBwZW5kKHNwYW4oCiAgICAgICAgYCgke2ZpbGUudHlwZSB8fCAnbi9hJ30pIC0gJHtmaWxlLnNpemV9IGJ5dGVzLCBgICsKICAgICAgICBgbGFzdCBtb2RpZmllZDogJHsKICAgICAgICAgICAgZmlsZS5sYXN0TW9kaWZpZWREYXRlID8gZmlsZS5sYXN0TW9kaWZpZWREYXRlLnRvTG9jYWxlRGF0ZVN0cmluZygpIDoKICAgICAgICAgICAgICAgICAgICAgICAgICAgICAgICAgICAgJ24vYSd9IC0gYCkpOwogICAgY29uc3QgcGVyY2VudCA9IHNwYW4oJzAlIGRvbmUnKTsKICAgIGxpLmFwcGVuZENoaWxkKHBlcmNlbnQpOwoKICAgIG91dHB1dEVsZW1lbnQuYXBwZW5kQ2hpbGQobGkpOwoKICAgIGNvbnN0IGZpbGVEYXRhUHJvbWlzZSA9IG5ldyBQcm9taXNlKChyZXNvbHZlKSA9PiB7CiAgICAgIGNvbnN0IHJlYWRlciA9IG5ldyBGaWxlUmVhZGVyKCk7CiAgICAgIHJlYWRlci5vbmxvYWQgPSAoZSkgPT4gewogICAgICAgIHJlc29sdmUoZS50YXJnZXQucmVzdWx0KTsKICAgICAgfTsKICAgICAgcmVhZGVyLnJlYWRBc0FycmF5QnVmZmVyKGZpbGUpOwogICAgfSk7CiAgICAvLyBXYWl0IGZvciB0aGUgZGF0YSB0byBiZSByZWFkeS4KICAgIGxldCBmaWxlRGF0YSA9IHlpZWxkIHsKICAgICAgcHJvbWlzZTogZmlsZURhdGFQcm9taXNlLAogICAgICByZXNwb25zZTogewogICAgICAgIGFjdGlvbjogJ2NvbnRpbnVlJywKICAgICAgfQogICAgfTsKCiAgICAvLyBVc2UgYSBjaHVua2VkIHNlbmRpbmcgdG8gYXZvaWQgbWVzc2FnZSBzaXplIGxpbWl0cy4gU2VlIGIvNjIxMTU2NjAuCiAgICBsZXQgcG9zaXRpb24gPSAwOwogICAgZG8gewogICAgICBjb25zdCBsZW5ndGggPSBNYXRoLm1pbihmaWxlRGF0YS5ieXRlTGVuZ3RoIC0gcG9zaXRpb24sIE1BWF9QQVlMT0FEX1NJWkUpOwogICAgICBjb25zdCBjaHVuayA9IG5ldyBVaW50OEFycmF5KGZpbGVEYXRhLCBwb3NpdGlvbiwgbGVuZ3RoKTsKICAgICAgcG9zaXRpb24gKz0gbGVuZ3RoOwoKICAgICAgY29uc3QgYmFzZTY0ID0gYnRvYShTdHJpbmcuZnJvbUNoYXJDb2RlLmFwcGx5KG51bGwsIGNodW5rKSk7CiAgICAgIHlpZWxkIHsKICAgICAgICByZXNwb25zZTogewogICAgICAgICAgYWN0aW9uOiAnYXBwZW5kJywKICAgICAgICAgIGZpbGU6IGZpbGUubmFtZSwKICAgICAgICAgIGRhdGE6IGJhc2U2NCwKICAgICAgICB9LAogICAgICB9OwoKICAgICAgbGV0IHBlcmNlbnREb25lID0gZmlsZURhdGEuYnl0ZUxlbmd0aCA9PT0gMCA/CiAgICAgICAgICAxMDAgOgogICAgICAgICAgTWF0aC5yb3VuZCgocG9zaXRpb24gLyBmaWxlRGF0YS5ieXRlTGVuZ3RoKSAqIDEwMCk7CiAgICAgIHBlcmNlbnQudGV4dENvbnRlbnQgPSBgJHtwZXJjZW50RG9uZX0lIGRvbmVgOwoKICAgIH0gd2hpbGUgKHBvc2l0aW9uIDwgZmlsZURhdGEuYnl0ZUxlbmd0aCk7CiAgfQoKICAvLyBBbGwgZG9uZS4KICB5aWVsZCB7CiAgICByZXNwb25zZTogewogICAgICBhY3Rpb246ICdjb21wbGV0ZScsCiAgICB9CiAgfTsKfQoKc2NvcGUuZ29vZ2xlID0gc2NvcGUuZ29vZ2xlIHx8IHt9OwpzY29wZS5nb29nbGUuY29sYWIgPSBzY29wZS5nb29nbGUuY29sYWIgfHwge307CnNjb3BlLmdvb2dsZS5jb2xhYi5fZmlsZXMgPSB7CiAgX3VwbG9hZEZpbGVzLAogIF91cGxvYWRGaWxlc0NvbnRpbnVlLAp9Owp9KShzZWxmKTsK",
              "headers": [
                [
                  "content-type",
                  "application/javascript"
                ]
              ],
              "ok": true,
              "status": 200,
              "status_text": ""
            }
          }
        },
        "id": "M0t4LWWL98di",
        "outputId": "64f3d2e4-8aef-4493-b8bc-cb0cb8b9c7d0"
      },
      "outputs": [
        {
          "data": {
            "text/html": [
              "\n",
              "     <input type=\"file\" id=\"files-cae63e60-0d95-4dfe-8b91-3af035b4a175\" name=\"files[]\" multiple disabled\n",
              "        style=\"border:none\" />\n",
              "     <output id=\"result-cae63e60-0d95-4dfe-8b91-3af035b4a175\">\n",
              "      Upload widget is only available when the cell has been executed in the\n",
              "      current browser session. Please rerun this cell to enable.\n",
              "      </output>\n",
              "      <script src=\"/nbextensions/google.colab/files.js\"></script> "
            ],
            "text/plain": [
              "<IPython.core.display.HTML object>"
            ]
          },
          "metadata": {},
          "output_type": "display_data"
        },
        {
          "name": "stdout",
          "output_type": "stream",
          "text": [
            "Saving kaggle.json to kaggle.json\n"
          ]
        },
        {
          "data": {
            "text/plain": [
              "{'kaggle.json': b'{\"username\":\"psalisholsamuel\",\"key\":\"0953b1f053e63b6a1fae6f276ed6004b\"}'}"
            ]
          },
          "execution_count": 4,
          "metadata": {},
          "output_type": "execute_result"
        }
      ],
      "source": [
        "# making file to upload the kaggle json\n",
        "from google.colab import files\n",
        "files.upload()"
      ]
    },
    {
      "cell_type": "code",
      "execution_count": 5,
      "metadata": {
        "id": "Sq8oTGRe-I7V"
      },
      "outputs": [],
      "source": [
        "# making kaggle directory\n",
        "! mkdir ~/.kaggle"
      ]
    },
    {
      "cell_type": "code",
      "execution_count": 6,
      "metadata": {
        "id": "7EeV0a2s-i89"
      },
      "outputs": [],
      "source": [
        "! cp kaggle.json ~/.kaggle/"
      ]
    },
    {
      "cell_type": "code",
      "execution_count": 7,
      "metadata": {
        "id": "kHGuH2Z5A8FE"
      },
      "outputs": [],
      "source": [
        "! chmod 600 ~/.kaggle/kaggle.json"
      ]
    },
    {
      "cell_type": "code",
      "execution_count": 8,
      "metadata": {
        "colab": {
          "base_uri": "https://localhost:8080/"
        },
        "id": "2lnC4iTlHZMC",
        "outputId": "358fec13-43c6-471f-d9b1-2cda0988b926"
      },
      "outputs": [
        {
          "name": "stdout",
          "output_type": "stream",
          "text": [
            "Downloading us-used-cars-dataset.zip to /content\n",
            "100% 2.13G/2.13G [00:21<00:00, 42.7MB/s]\n",
            "100% 2.13G/2.13G [00:21<00:00, 106MB/s] \n"
          ]
        }
      ],
      "source": [
        "! kaggle datasets download ananaymital/us-used-cars-dataset"
      ]
    },
    {
      "cell_type": "code",
      "execution_count": 9,
      "metadata": {
        "colab": {
          "base_uri": "https://localhost:8080/"
        },
        "id": "clF0NDi5H3Hq",
        "outputId": "0b4023d7-7e7f-4eee-c66b-671f5affd019"
      },
      "outputs": [
        {
          "name": "stdout",
          "output_type": "stream",
          "text": [
            "Archive:  us-used-cars-dataset.zip\n",
            "  inflating: used_cars_data.csv      \n"
          ]
        }
      ],
      "source": [
        "! unzip us-used-cars-dataset.zip"
      ]
    },
    {
      "cell_type": "markdown",
      "metadata": {
        "id": "4ou_lTE99QMj"
      },
      "source": [
        "# Loading The Dataset"
      ]
    },
    {
      "cell_type": "markdown",
      "metadata": {
        "id": "Bx3FdqMvNv1r"
      },
      "source": [
        "## Function for filtering the dataset by year"
      ]
    },
    {
      "cell_type": "code",
      "execution_count": 10,
      "metadata": {
        "id": "CapebzOgIXIJ"
      },
      "outputs": [],
      "source": [
        "def filter_by_listed_date(data, year: int):\n",
        "    \"\"\"Function that filters the dataframe by the year the car was listed\n",
        "    \n",
        "    Args:\n",
        "        data (Dataframe): This is the data passed in chunk\n",
        "\n",
        "    Returns:\n",
        "             Filtered dataframe with only the selected listing year\n",
        "    \"\"\"\n",
        "    import pandas as pd\n",
        "    print(\"Filtering dataframe...\")\n",
        "    start = time.time()\n",
        "    # Converting the listed_date col to pandas datetime\n",
        "    data[\"listed_date\"] = pd.to_datetime(data[\"listed_date\"])\n",
        "    data[\"listed_year\"] = data[\"listed_date\"].apply(lambda date: date.year)\n",
        "\n",
        "    # Filtering the dataset by the year\n",
        "    filtered_dataset = data[data[\"listed_year\"] == year]\n",
        "    end = time.time()\n",
        "    print(\"Filtered dataframe | Time Taken {}\".format(str(end-start)))\n",
        "    print(\"Data shape: {}\".format(filtered_dataset.shape))\n",
        "    return filtered_dataset"
      ]
    },
    {
      "cell_type": "markdown",
      "metadata": {
        "id": "Vogr3WzAN_Q9"
      },
      "source": [
        "## Loading and partitioning the file"
      ]
    },
    {
      "cell_type": "code",
      "execution_count": 11,
      "metadata": {
        "id": "ld-jKA3SRKRo"
      },
      "outputs": [],
      "source": [
        "# LOADING PARAMETER\n",
        "FILENAME = \"used_cars_data.csv\"\n",
        "Chunksize = 1e5\n",
        "\n",
        "# Columns to be used\n",
        "cols = [\"body_type\",\"city\",\"city_fuel_economy\",\"engine_cylinders\",\"listed_date\",\n",
        "        \"engine_displacement\",\"frame_damaged\",\"fuel_type\",\"has_accidents\",\n",
        "        \"highway_fuel_economy\",\"isCab\",\"is_new\",\"listed_date\",\"make_name\",\n",
        "        \"maximum_seating\",\"mileage\",\"model_name\",\"price\",\"seller_rating\",\"transmission\",\"wheel_system\",\"year\"]\n",
        "\n",
        "for df_iter, data in enumerate(pd.read_csv(FILENAME, iterator=True, chunksize=Chunksize, encoding=\"latin1\",usecols=cols),1):\n",
        "    data.to_csv(\"used_data_{}.csv\".format(df_iter))"
      ]
    },
    {
      "cell_type": "markdown",
      "metadata": {
        "id": "vHIn68vPdrkN"
      },
      "source": [
        "## Loading Partitioned file and filtering"
      ]
    },
    {
      "cell_type": "code",
      "execution_count": 12,
      "metadata": {
        "colab": {
          "base_uri": "https://localhost:8080/"
        },
        "id": "mDJxopNldhnY",
        "outputId": "e080bd70-90e2-42af-d075-058a3d6f3f5b"
      },
      "outputs": [
        {
          "name": "stdout",
          "output_type": "stream",
          "text": [
            "------------------------------------------------------\n",
            "|    Started Filtering and Concatenating Dataframe    |\n",
            "------------------------------------------------------\n",
            "Filtering dataframe...\n",
            "Filtered dataframe | Time Taken 0.5280890464782715\n",
            "Data shape: (92400, 23)\n",
            "------------------------------------------------------\n",
            "Progress: Working on used_data_2.csv\n",
            "Filtering dataframe...\n",
            "Filtered dataframe | Time Taken 0.4901564121246338\n",
            "Data shape: (92087, 23)\n",
            "Total shape after concatenating: (184487, 23)\n",
            "------------------------------------------------------\n",
            "\n",
            "------------------------------------------------------\n",
            "Progress: Working on used_data_3.csv\n",
            "Filtering dataframe...\n",
            "Filtered dataframe | Time Taken 0.4924898147583008\n",
            "Data shape: (92113, 23)\n",
            "Total shape after concatenating: (276600, 23)\n",
            "------------------------------------------------------\n",
            "\n",
            "------------------------------------------------------\n",
            "Progress: Working on used_data_4.csv\n",
            "Filtering dataframe...\n",
            "Filtered dataframe | Time Taken 0.5979273319244385\n",
            "Data shape: (92347, 23)\n",
            "Total shape after concatenating: (368947, 23)\n",
            "------------------------------------------------------\n",
            "\n",
            "------------------------------------------------------\n",
            "Progress: Working on used_data_5.csv\n",
            "Filtering dataframe...\n",
            "Filtered dataframe | Time Taken 0.5003609657287598\n",
            "Data shape: (92083, 23)\n",
            "Total shape after concatenating: (461030, 23)\n",
            "------------------------------------------------------\n",
            "\n",
            "------------------------------------------------------\n",
            "Progress: Working on used_data_6.csv\n",
            "Filtering dataframe...\n",
            "Filtered dataframe | Time Taken 0.5024135112762451\n",
            "Data shape: (91990, 23)\n",
            "Total shape after concatenating: (553020, 23)\n",
            "------------------------------------------------------\n",
            "\n",
            "------------------------------------------------------\n",
            "Progress: Working on used_data_7.csv\n",
            "Filtering dataframe...\n",
            "Filtered dataframe | Time Taken 0.4969758987426758\n",
            "Data shape: (92464, 23)\n",
            "Total shape after concatenating: (645484, 23)\n",
            "------------------------------------------------------\n",
            "\n",
            "------------------------------------------------------\n",
            "Progress: Working on used_data_8.csv\n",
            "Filtering dataframe...\n",
            "Filtered dataframe | Time Taken 0.4867563247680664\n",
            "Data shape: (92397, 23)\n",
            "Total shape after concatenating: (737881, 23)\n",
            "------------------------------------------------------\n",
            "\n",
            "------------------------------------------------------\n",
            "Progress: Working on used_data_9.csv\n",
            "Filtering dataframe...\n",
            "Filtered dataframe | Time Taken 0.5072450637817383\n",
            "Data shape: (91726, 23)\n",
            "Total shape after concatenating: (829607, 23)\n",
            "------------------------------------------------------\n",
            "\n",
            "------------------------------------------------------\n",
            "Progress: Working on used_data_10.csv\n",
            "Filtering dataframe...\n",
            "Filtered dataframe | Time Taken 0.5122056007385254\n",
            "Data shape: (92956, 23)\n",
            "Total shape after concatenating: (922563, 23)\n",
            "------------------------------------------------------\n",
            "\n",
            "------------------------------------------------------\n",
            "Progress: Working on used_data_11.csv\n",
            "Filtering dataframe...\n",
            "Filtered dataframe | Time Taken 0.5024645328521729\n",
            "Data shape: (92349, 23)\n",
            "Total shape after concatenating: (1014912, 23)\n",
            "------------------------------------------------------\n",
            "\n",
            "------------------------------------------------------\n",
            "Progress: Working on used_data_12.csv\n",
            "Filtering dataframe...\n",
            "Filtered dataframe | Time Taken 0.5164916515350342\n",
            "Data shape: (92707, 23)\n",
            "Total shape after concatenating: (1107619, 23)\n",
            "------------------------------------------------------\n",
            "\n",
            "------------------------------------------------------\n",
            "Progress: Working on used_data_13.csv\n",
            "Filtering dataframe...\n",
            "Filtered dataframe | Time Taken 0.4903726577758789\n",
            "Data shape: (92997, 23)\n",
            "Total shape after concatenating: (1200616, 23)\n",
            "------------------------------------------------------\n",
            "\n",
            "------------------------------------------------------\n",
            "Progress: Working on used_data_14.csv\n",
            "Filtering dataframe...\n",
            "Filtered dataframe | Time Taken 0.5089118480682373\n",
            "Data shape: (94222, 23)\n",
            "Total shape after concatenating: (1294838, 23)\n",
            "------------------------------------------------------\n",
            "\n",
            "------------------------------------------------------\n",
            "Progress: Working on used_data_15.csv\n",
            "Filtering dataframe...\n",
            "Filtered dataframe | Time Taken 0.4869804382324219\n",
            "Data shape: (93787, 23)\n",
            "Total shape after concatenating: (1388625, 23)\n",
            "------------------------------------------------------\n",
            "\n",
            "------------------------------------------------------\n",
            "Progress: Working on used_data_16.csv\n",
            "Filtering dataframe...\n",
            "Filtered dataframe | Time Taken 0.5030741691589355\n",
            "Data shape: (92683, 23)\n",
            "Total shape after concatenating: (1481308, 23)\n",
            "------------------------------------------------------\n",
            "\n",
            "------------------------------------------------------\n",
            "Progress: Working on used_data_17.csv\n",
            "Filtering dataframe...\n",
            "Filtered dataframe | Time Taken 0.5700304508209229\n",
            "Data shape: (92857, 23)\n",
            "Total shape after concatenating: (1574165, 23)\n",
            "------------------------------------------------------\n",
            "\n",
            "------------------------------------------------------\n",
            "Progress: Working on used_data_18.csv\n",
            "Filtering dataframe...\n",
            "Filtered dataframe | Time Taken 0.5032434463500977\n",
            "Data shape: (92432, 23)\n",
            "Total shape after concatenating: (1666597, 23)\n",
            "------------------------------------------------------\n",
            "\n",
            "------------------------------------------------------\n",
            "Progress: Working on used_data_19.csv\n",
            "Filtering dataframe...\n",
            "Filtered dataframe | Time Taken 0.5046515464782715\n",
            "Data shape: (92565, 23)\n",
            "Total shape after concatenating: (1759162, 23)\n",
            "------------------------------------------------------\n",
            "\n",
            "------------------------------------------------------\n",
            "Progress: Working on used_data_20.csv\n",
            "Filtering dataframe...\n",
            "Filtered dataframe | Time Taken 0.4976019859313965\n",
            "Data shape: (92442, 23)\n",
            "Total shape after concatenating: (1851604, 23)\n",
            "------------------------------------------------------\n",
            "\n",
            "------------------------------------------------------\n",
            "Progress: Working on used_data_21.csv\n",
            "Filtering dataframe...\n",
            "Filtered dataframe | Time Taken 0.509723424911499\n",
            "Data shape: (93257, 23)\n",
            "Total shape after concatenating: (1944861, 23)\n",
            "------------------------------------------------------\n",
            "\n",
            "------------------------------------------------------\n",
            "Progress: Working on used_data_22.csv\n",
            "Filtering dataframe...\n",
            "Filtered dataframe | Time Taken 0.5006186962127686\n",
            "Data shape: (93340, 23)\n",
            "Total shape after concatenating: (2038201, 23)\n",
            "------------------------------------------------------\n",
            "\n",
            "------------------------------------------------------\n",
            "Progress: Working on used_data_23.csv\n",
            "Filtering dataframe...\n",
            "Filtered dataframe | Time Taken 0.4932126998901367\n",
            "Data shape: (93321, 23)\n",
            "Total shape after concatenating: (2131522, 23)\n",
            "------------------------------------------------------\n",
            "\n",
            "------------------------------------------------------\n",
            "Progress: Working on used_data_24.csv\n",
            "Filtering dataframe...\n",
            "Filtered dataframe | Time Taken 0.49630022048950195\n",
            "Data shape: (94623, 23)\n",
            "Total shape after concatenating: (2226145, 23)\n",
            "------------------------------------------------------\n",
            "\n",
            "------------------------------------------------------\n",
            "Progress: Working on used_data_25.csv\n",
            "Filtering dataframe...\n",
            "Filtered dataframe | Time Taken 0.48585033416748047\n",
            "Data shape: (93742, 23)\n",
            "Total shape after concatenating: (2319887, 23)\n",
            "------------------------------------------------------\n",
            "\n",
            "------------------------------------------------------\n",
            "Progress: Working on used_data_26.csv\n",
            "Filtering dataframe...\n",
            "Filtered dataframe | Time Taken 0.4875032901763916\n",
            "Data shape: (93250, 23)\n",
            "Total shape after concatenating: (2413137, 23)\n",
            "------------------------------------------------------\n",
            "\n",
            "------------------------------------------------------\n",
            "Progress: Working on used_data_27.csv\n",
            "Filtering dataframe...\n",
            "Filtered dataframe | Time Taken 0.4913053512573242\n",
            "Data shape: (92505, 23)\n",
            "Total shape after concatenating: (2505642, 23)\n",
            "------------------------------------------------------\n",
            "\n",
            "------------------------------------------------------\n",
            "Progress: Working on used_data_28.csv\n",
            "Filtering dataframe...\n",
            "Filtered dataframe | Time Taken 0.4995124340057373\n",
            "Data shape: (93800, 23)\n",
            "Total shape after concatenating: (2599442, 23)\n",
            "------------------------------------------------------\n",
            "\n",
            "------------------------------------------------------\n",
            "Progress: Working on used_data_29.csv\n",
            "Filtering dataframe...\n",
            "Filtered dataframe | Time Taken 0.4814748764038086\n",
            "Data shape: (93783, 23)\n",
            "Total shape after concatenating: (2693225, 23)\n",
            "------------------------------------------------------\n",
            "\n",
            "------------------------------------------------------\n",
            "Progress: Working on used_data_30.csv\n",
            "Filtering dataframe...\n",
            "Filtered dataframe | Time Taken 0.5785121917724609\n",
            "Data shape: (93884, 23)\n",
            "Total shape after concatenating: (2787109, 23)\n",
            "------------------------------------------------------\n",
            "\n",
            "------------------------------------------------------\n",
            "| Total Time taken for Process | 27.977030754089355 |\n",
            "final shape: (2787109, 23)\n",
            "------------------------------------------------------\n"
          ]
        }
      ],
      "source": [
        "def join_and_filter(year):\n",
        "    \"\"\"Helps in going across the partitions, load the folder, filter it according to the\n",
        "    specified listing year and then concatenate it into a single dataframe\n",
        "\n",
        "    Returns:\n",
        "        Concatenated dataframe with specific listing year\n",
        "    \"\"\"\n",
        "    print(\"------------------------------------------------------\")\n",
        "    print(\"|    Started Filtering and Concatenating Dataframe    |\")\n",
        "    print(\"------------------------------------------------------\")\n",
        "    start = time.time()\n",
        "    N_PARTITIONS =31\n",
        "    \n",
        "    filtered_data = filter_by_listed_date(data=pd.read_csv(\"used_data_1.csv\"), year=year)\n",
        "    data_name = [\"used_data_{}.csv\".format(x) for x in range(2,N_PARTITIONS)]\n",
        "\n",
        "    for fileName in data_name:\n",
        "        print(\"------------------------------------------------------\")\n",
        "        print(\"Progress: Working on {}\".format(fileName))\n",
        "        filtered_chunk = filter_by_listed_date(data=pd.read_csv(fileName),year=year)\n",
        "        filtered_data = pd.concat([filtered_data,filtered_chunk], axis=0)\n",
        "        # time.sleep(15)\n",
        "        print(\"Total shape after concatenating: {}\".format(filtered_data.shape))\n",
        "        print(\"------------------------------------------------------\\n\")\n",
        "    end = time.time()\n",
        "    print(\"------------------------------------------------------\")\n",
        "    print(\"| Total Time taken for Process | {} |\".format(str(end-start)))\n",
        "    print(\"final shape: {}\".format(filtered_data.shape))\n",
        "    print(\"------------------------------------------------------\")\n",
        "    return filtered_data\n",
        "\n",
        "used_data_2020 = join_and_filter(2020)"
      ]
    },
    {
      "cell_type": "code",
      "execution_count": 13,
      "metadata": {
        "id": "pUXl7MOqs0nI"
      },
      "outputs": [],
      "source": [
        "data = used_data_2020.copy()"
      ]
    },
    {
      "cell_type": "code",
      "execution_count": 14,
      "metadata": {
        "colab": {
          "base_uri": "https://localhost:8080/"
        },
        "id": "Mh7C3X3SoS8g",
        "outputId": "f37c32cc-5bf8-47b6-a4a1-b2967ebf8544"
      },
      "outputs": [
        {
          "data": {
            "text/plain": [
              "(2787109, 23)"
            ]
          },
          "execution_count": 14,
          "metadata": {},
          "output_type": "execute_result"
        }
      ],
      "source": [
        "data.shape"
      ]
    },
    {
      "cell_type": "markdown",
      "metadata": {
        "id": "T_6N71fbtjSK"
      },
      "source": [
        "# Data Cleaning and Exploration"
      ]
    },
    {
      "cell_type": "markdown",
      "metadata": {
        "id": "aRKgHio3tvH5"
      },
      "source": [
        "## Cleaning the data and removing some features\n",
        "\n",
        "Operation performed\n",
        "- Removing vehicle make whose record is less than 10000\n",
        "- Removing 'seats' from maximum seating and 'gal' from fuel_tank_volume then converting it to an integer\n",
        "- Removing listed_year and listed_date"
      ]
    },
    {
      "cell_type": "code",
      "execution_count": 15,
      "metadata": {
        "colab": {
          "base_uri": "https://localhost:8080/",
          "height": 655
        },
        "id": "-8WIOrfsj81A",
        "outputId": "534ce5a6-f4a4-43e2-82ef-cc5ed414a8a7"
      },
      "outputs": [
        {
          "name": "stdout",
          "output_type": "stream",
          "text": [
            "-------------------------------------\n",
            "|        Started Data Cleaning       |\n",
            "-------------------------------------\n",
            "-------------------------------------\n",
            "Progress: Cleaning data\n",
            "Cleaned data | Time taken 9.211186408996582\n",
            "-------------------------------------\n",
            "\n",
            "-------------------------------------\n",
            "Progress: Renaming data\n",
            "Data Renamed | Time taken 0.9107487201690674\n",
            "-------------------------------------\n",
            "\n",
            "-------------------------------------\n",
            "Total Time Taken for Process: 10.417479276657104\n",
            "-------------------------------------\n"
          ]
        },
        {
          "data": {
            "image/png": "[encoded data removed]",
            "text/plain": [
              "<Figure size 432x288 with 1 Axes>"
            ]
          },
          "metadata": {
            "needs_background": "light"
          },
          "output_type": "display_data"
        }
      ],
      "source": [
        "def clean_data(data, plot=False):\n",
        "    \"\"\"Filters the data by the make count, drops some columns like listed date, listed year and then\n",
        "    renamed some of the columns\n",
        "\n",
        "    Args:\n",
        "        make_count (int): number of make to filter by\n",
        "    Returns:\n",
        "        Clean dataframe\n",
        "    \"\"\"\n",
        "    import time\n",
        "    import pandas as pd\n",
        "    import numpy as np\n",
        "    start = time.time()\n",
        "    # Filtering the data\n",
        "    print(\"-------------------------------------\")\n",
        "    print(\"|        Started Data Cleaning       |\")\n",
        "    print(\"-------------------------------------\")\n",
        "\n",
        "    data = data.drop([\"Unnamed: 0\",\"listed_year\"],axis=1)\n",
        "\n",
        "    # Data Cleaning\n",
        "    print(\"-------------------------------------\")\n",
        "    print(\"Progress: Cleaning data\")\n",
        "    cleaning_time_start = time.time()\n",
        "    data[\"maximum_seating\"] = data[\"maximum_seating\"].apply(lambda seating: str(seating).strip().split(\" \")[0])\n",
        "    data[\"transmission\"] = data[\"transmission\"].apply(lambda trans: str(trans).replace(\"A\",\"Automatic\").replace(\"M\",\"Manual\"))\n",
        "    data[\"engine_displacement\"] = data[\"engine_displacement\"].apply(lambda disp: disp/1000)\n",
        "    data[\"engine_cylinders\"] = data[\"engine_cylinders\"].apply(lambda cyl: str(cyl).strip().split(\" \")[0].strip())\n",
        "    data[\"mpg\"] = (data[\"city_fuel_economy\"] + data[\"highway_fuel_economy\"])/2\n",
        "\n",
        "    data = data.drop(columns=[\"city_fuel_economy\", \"highway_fuel_economy\"])\n",
        "\n",
        "    # Replacing every nan inputed through cleaning with np.nan\n",
        "    data[\"engine_cylinders\"] = data[\"engine_cylinders\"].replace({\"nan\": np.nan,\"--\":np.nan})\n",
        "    data[\"transmission\"] = data[\"transmission\"].replace({\"nan\":np.nan,\"--\":np.nan})\n",
        "    data[\"maximum_seating\"] = data[\"maximum_seating\"].replace({\"nan\":np.nan,\"--\":np.nan})\n",
        "\n",
        "    # Changing datatype\n",
        "    data[\"is_new\"] = data[\"is_new\"].astype(str)\n",
        "    data['maximum_seating'] = data['maximum_seating'].astype(float)\n",
        "\n",
        "    cleaning_time_end = time.time()\n",
        "    print(\"Cleaned data | Time taken {}\".format(str(cleaning_time_end-cleaning_time_start)))\n",
        "    print(\"-------------------------------------\\n\")\n",
        "    print(\"-------------------------------------\")\n",
        "    print(\"Progress: Renaming data\")\n",
        "    # Renaming some columns\n",
        "    renaming_start = time.time()\n",
        "    data = data.rename(columns={\"fuel_tank_volume\":\"Tank_Volume\",\n",
        "                                \"engine_displacement\":\"engine_size\",\n",
        "                                \"wheel_system\":\"Drivetrain\"})\n",
        "    renaming_end = time.time()\n",
        "    print(\"Data Renamed | Time taken {}\".format(str(renaming_end-renaming_start)))\n",
        "    print(\"-------------------------------------\\n\")\n",
        "    end= time.time()\n",
        "    print(\"-------------------------------------\")\n",
        "    print(\"Total Time Taken for Process: {}\".format(str(end-start)))\n",
        "    print(\"-------------------------------------\")\n",
        "\n",
        "    # For plotting the graph\n",
        "    if plot is True:\n",
        "        missing_index = data.isnull().sum().sort_values(ascending=True).index\n",
        "        missing_values = data.isnull().sum().sort_values(ascending=True).values\n",
        "\n",
        "        sns.barplot(x=missing_index, y=missing_values,palette=\"Blues\")\n",
        "        plt.xticks(rotation=90,horizontalalignment=\"right\")\n",
        "        plt.title(\"Missing values in the data\")\n",
        "        plt.grid()\n",
        "        plt.show()\n",
        "\n",
        "\n",
        "    return data\n",
        "\n",
        "# Cleaning the data\n",
        "cleaned_data = clean_data(data, plot=True)"
      ]
    },
    {
      "cell_type": "markdown",
      "metadata": {
        "id": "kouMaM7OpuMW"
      },
      "source": [
        "## Visualization"
      ]
    },
    {
      "cell_type": "code",
      "execution_count": 16,
      "metadata": {
        "id": "ocCrNPy6p6PB"
      },
      "outputs": [],
      "source": [
        "def create_plot(data, first_col, plot_type=None, second_col=None, hue=None, plot=None, plot_style=None):\n",
        "    \"\"\"Creates Univariate, Bivariate and Multivariate plot for comparing a feature with another\n",
        "\n",
        "    Parameter:\n",
        "        data [Dataframe]: Dataframe to be used for plotting the graph\n",
        "        first_col (object): first\n",
        "    \n",
        "    Return:\n",
        "        compared plot\n",
        "    \"\"\"\n",
        "\n",
        "    import matplotlib.pyplot as plt \n",
        "    import seaborn as sns\n",
        "\n",
        "    # Defining the plot_type\n",
        "    plots_ = [\"Univariate\",\"Bivariate\",\"Multivariate\"]\n",
        "    plot_styles = []\n",
        "    # data_columns = list(data.columns)\n",
        "    data_columns = [feature for feature in data.columns]\n",
        "\n",
        "    if first_col not in data_columns:\n",
        "        raise KeyError(\"Column entered not in Dataframe here are the column list {}\".format(\n",
        "            [feature for feature in data_columns if feature != second_col]))\n",
        "    if second_col not in data.columns:\n",
        "        raise KeyError(\"Column entered not in Dataframe here are the column list {}\".format(\n",
        "            [feature for feature in data_columns if feature != first_col]))\n",
        "    if plot_type not in plots_:\n",
        "        raise KeyError(\"Invalid Plot Type \\n Choose Between {}\".format(plots_))\n",
        "    if plot_type.title() == \"Multivariate\" and hue is None:\n",
        "        raise ValueError(\"You have to choose the third column to plot with, which include {}\".format(\n",
        "                                        [feature for feature in data_columns if feature != first_col]))\n",
        "\n",
        "    # For the bivariate plot \n",
        "    if plot_type == \"Univariate\":\n",
        "        if data[first_col].dtype != object:\n",
        "            raise KeyError(\"feature must be an object type\")\n",
        "        # Plotting the graph\n",
        "        sns.countplot(data[first_col], palette=\"Blues\")\n",
        "        plt.title(\"{} sample in the dataset\".format((\" \".join(first_col.split(\"_\")).title())))\n",
        "        plt.xticks(rotation=45, horizontalalignment=\"right\")\n",
        "        plt.show()\n",
        "\n",
        "    if plot_type == \"Bivariate\":\n",
        "        if data[first_col].dtype == object and data[second_col].dtype == object:\n",
        "            raise KeyError(\"Both Input feature cannot be object, either first input or second must be an object\")\n",
        "        if data[first_col].dtype == object and data[second_col].dtype != object:\n",
        "            first_col_name = (\" \".join(first_col.split(\"_\"))).title()\n",
        "            second_col_name = (\" \".join(second_col.split(\"_\"))).title()\n",
        "            plt.figure(figsize=(22,5))\n",
        "            grouped_index = data.groupby(first_col)[second_col].mean().sort_values(ascending=True).index\n",
        "            grouped_values = data.groupby(first_col)[second_col].mean().sort_values(ascending=True).values\n",
        "\n",
        "            sns.barplot(grouped_index,grouped_values,palette=\"Blues\")\n",
        "            plt.xlabel((\" \".join(first_col.split(\"_\"))).title())\n",
        "            plt.title(\"Comparing the aggregate of {} with the {}\".format(second_col_name,first_col_name))\n",
        "            plt.xticks(rotation=45, horizontalalignment=\"right\")\n",
        "            plt.grid()\n",
        "            plt.show()\n",
        "\n",
        "    \n",
        "        if data[first_col].dtype != object and data[second_col].dtype == object:\n",
        "            first_col_name = (\" \".join(first_col.split(\"_\"))).title()\n",
        "            second_col_name = (\" \".join(second_col.split(\"_\"))).title()\n",
        "            plt.figure(figsize=(22,5))\n",
        "            grouped_index = data.groupby(second_col)[first_col].mean().sort_values(ascending=True).index\n",
        "            grouped_values = data.groupby(second_col)[first_col].mean().sort_values(ascending=True).values\n",
        "\n",
        "            sns.barplot(grouped_index,grouped_values,palette=\"Blues\")\n",
        "            plt.xlabel((\" \".join(first_col.split(\"_\"))).title())\n",
        "            plt.title(\"Comparing the aggregate of {} with the {}\".format(first_col_name,second_col_name))\n",
        "            plt.xticks(rotation=45, horizontalalignment=\"right\")\n",
        "            plt.grid()\n",
        "            plt.show()\n",
        "\n",
        "\n",
        "        if data[first_col].dtype != object and data[second_col].dtype != object:\n",
        "            plt.figure(figsize=(22,5))\n",
        "            sns.scatterplot(data[first_col], data[second_col], palette=\"Blues\")\n",
        "            plt.title(\"\")\n",
        "            plt.grid()\n",
        "            plt.show()\n",
        "\n",
        "    if plot_type == \"Multivariate\":\n",
        "\n",
        "        # if plot not in plot_styles:\n",
        "        #     raise KeyError(\"Invalid Plot style selected: Enter either one of these {}\".format(plot_styles))\n",
        "        if data[hue].dtype != object:\n",
        "            raise TypeError(\"feature chosen as Hue must be an object. You can use one of these {}\".format(\n",
        "                        feature for feature in data.columns if data[feature].dtype == object and feature not in [first_col, second_col]))\n",
        "        \n",
        "        hue_ = []\n",
        "        first_col_ = []\n",
        "        second_col_ = []\n",
        "        if data[first_col].dtype == object and data[second_col].dtype != object:\n",
        "            grouped = data.groupby([first_col,hue])[second_col].mean()\n",
        "            for hues,first,second in grouped:\n",
        "                hue_.append(hues)\n",
        "                first_col_.append(first)\n",
        "                second_col_.append(second)\n",
        "            sns.barplot(x=first_col_,y=second_col_,hue=hue_,palette=\"Blues\")\n",
        "\n",
        "        if data[first_col].dtype != object and data[second_col].dtype != object:\n",
        "            sns.scatterplot(data[first_col], data[second_col],hue=data[hue])\n",
        "            plt.show()\n",
        "\n",
        "        if data[first_col].dtype == object or data[second_col].dtype == object:\n",
        "            sns.barplot(data, first_col, second_col, hue=hue, palette=\"Blues\")\n",
        "            plt.grid()\n",
        "            plt.show()\n",
        "\n"
      ]
    },
    {
      "cell_type": "code",
      "execution_count": null,
      "metadata": {
        "colab": {
          "base_uri": "https://localhost:8080/",
          "height": 299
        },
        "id": "YNU4a4gKMWHZ",
        "outputId": "a911a5de-888b-408c-a3e8-4c53a9e102dc"
      },
      "outputs": [
        {
          "ename": "TypeError",
          "evalue": "ignored",
          "output_type": "error",
          "traceback": [
            "\u001b[0;31m---------------------------------------------------------------------------\u001b[0m",
            "\u001b[0;31mTypeError\u001b[0m                                 Traceback (most recent call last)",
            "\u001b[0;32m<ipython-input-16-1ba7a27224a9>\u001b[0m in \u001b[0;36m<module>\u001b[0;34m()\u001b[0m\n\u001b[0;32m----> 1\u001b[0;31m \u001b[0mcreate_plot\u001b[0m\u001b[0;34m(\u001b[0m\u001b[0mcleaned_data\u001b[0m\u001b[0;34m,\u001b[0m\u001b[0mfirst_col\u001b[0m\u001b[0;34m=\u001b[0m\u001b[0;34m\"engine_cylinders\"\u001b[0m\u001b[0;34m,\u001b[0m\u001b[0msecond_col\u001b[0m\u001b[0;34m=\u001b[0m\u001b[0;34m\"price\"\u001b[0m\u001b[0;34m,\u001b[0m\u001b[0mhue\u001b[0m \u001b[0;34m=\u001b[0m\u001b[0;34m\"is_new\"\u001b[0m\u001b[0;34m,\u001b[0m \u001b[0mplot_type\u001b[0m\u001b[0;34m=\u001b[0m\u001b[0;34m\"Multivariate\"\u001b[0m\u001b[0;34m)\u001b[0m\u001b[0;34m\u001b[0m\u001b[0;34m\u001b[0m\u001b[0m\n\u001b[0m",
            "\u001b[0;32m<ipython-input-15-3b361ea992a5>\u001b[0m in \u001b[0;36mcreate_plot\u001b[0;34m(data, first_col, plot_type, second_col, hue, plot, plot_style)\u001b[0m\n\u001b[1;32m     94\u001b[0m         \u001b[0;32mif\u001b[0m \u001b[0mdata\u001b[0m\u001b[0;34m[\u001b[0m\u001b[0mfirst_col\u001b[0m\u001b[0;34m]\u001b[0m\u001b[0;34m.\u001b[0m\u001b[0mdtype\u001b[0m \u001b[0;34m==\u001b[0m \u001b[0mobject\u001b[0m \u001b[0;32mand\u001b[0m \u001b[0mdata\u001b[0m\u001b[0;34m[\u001b[0m\u001b[0msecond_col\u001b[0m\u001b[0;34m]\u001b[0m\u001b[0;34m.\u001b[0m\u001b[0mdtype\u001b[0m \u001b[0;34m!=\u001b[0m \u001b[0mobject\u001b[0m\u001b[0;34m:\u001b[0m\u001b[0;34m\u001b[0m\u001b[0;34m\u001b[0m\u001b[0m\n\u001b[1;32m     95\u001b[0m             \u001b[0mgrouped\u001b[0m \u001b[0;34m=\u001b[0m \u001b[0mdata\u001b[0m\u001b[0;34m.\u001b[0m\u001b[0mgroupby\u001b[0m\u001b[0;34m(\u001b[0m\u001b[0;34m[\u001b[0m\u001b[0mfirst_col\u001b[0m\u001b[0;34m,\u001b[0m\u001b[0mhue\u001b[0m\u001b[0;34m]\u001b[0m\u001b[0;34m)\u001b[0m\u001b[0;34m[\u001b[0m\u001b[0msecond_col\u001b[0m\u001b[0;34m]\u001b[0m\u001b[0;34m.\u001b[0m\u001b[0mmean\u001b[0m\u001b[0;34m(\u001b[0m\u001b[0;34m)\u001b[0m\u001b[0;34m\u001b[0m\u001b[0;34m\u001b[0m\u001b[0m\n\u001b[0;32m---> 96\u001b[0;31m             \u001b[0;32mfor\u001b[0m \u001b[0mhues\u001b[0m\u001b[0;34m,\u001b[0m\u001b[0mfirst\u001b[0m\u001b[0;34m,\u001b[0m\u001b[0msecond\u001b[0m \u001b[0;32min\u001b[0m \u001b[0mgrouped\u001b[0m\u001b[0;34m:\u001b[0m\u001b[0;34m\u001b[0m\u001b[0;34m\u001b[0m\u001b[0m\n\u001b[0m\u001b[1;32m     97\u001b[0m                 \u001b[0mhue_\u001b[0m\u001b[0;34m.\u001b[0m\u001b[0mappend\u001b[0m\u001b[0;34m(\u001b[0m\u001b[0mhues\u001b[0m\u001b[0;34m)\u001b[0m\u001b[0;34m\u001b[0m\u001b[0;34m\u001b[0m\u001b[0m\n\u001b[1;32m     98\u001b[0m                 \u001b[0mfirst_col_\u001b[0m\u001b[0;34m.\u001b[0m\u001b[0mappend\u001b[0m\u001b[0;34m(\u001b[0m\u001b[0mfirst\u001b[0m\u001b[0;34m)\u001b[0m\u001b[0;34m\u001b[0m\u001b[0;34m\u001b[0m\u001b[0m\n",
            "\u001b[0;31mTypeError\u001b[0m: cannot unpack non-iterable float object"
          ]
        }
      ],
      "source": [
        "create_plot(cleaned_data,first_col=\"engine_cylinders\",second_col=\"price\",hue =\"is_new\", plot_type=\"Multivariate\")"
      ]
    },
    {
      "cell_type": "code",
      "execution_count": null,
      "metadata": {
        "colab": {
          "base_uri": "https://localhost:8080/",
          "height": 356
        },
        "id": "ZsJTMxmYn6gk",
        "outputId": "0fc35e0a-c98c-44fa-a071-b212e14b6894"
      },
      "outputs": [
        {
          "data": {
            "text/html": [
              "\n",
              "  <div id=\"df-32ba55d0-2445-453d-b27f-3a03b913a513\">\n",
              "    <div class=\"colab-df-container\">\n",
              "      <div>\n",
              "<style scoped>\n",
              "    .dataframe tbody tr th:only-of-type {\n",
              "        vertical-align: middle;\n",
              "    }\n",
              "\n",
              "    .dataframe tbody tr th {\n",
              "        vertical-align: top;\n",
              "    }\n",
              "\n",
              "    .dataframe thead th {\n",
              "        text-align: right;\n",
              "    }\n",
              "</style>\n",
              "<table border=\"1\" class=\"dataframe\">\n",
              "  <thead>\n",
              "    <tr style=\"text-align: right;\">\n",
              "      <th></th>\n",
              "      <th>body_type</th>\n",
              "      <th>city</th>\n",
              "      <th>engine_cylinders</th>\n",
              "      <th>engine_size</th>\n",
              "      <th>frame_damaged</th>\n",
              "      <th>fuel_type</th>\n",
              "      <th>has_accidents</th>\n",
              "      <th>isCab</th>\n",
              "      <th>is_new</th>\n",
              "      <th>make_name</th>\n",
              "      <th>maximum_seating</th>\n",
              "      <th>mileage</th>\n",
              "      <th>model_name</th>\n",
              "      <th>price</th>\n",
              "      <th>seller_rating</th>\n",
              "      <th>transmission</th>\n",
              "      <th>Drivetrain</th>\n",
              "      <th>year</th>\n",
              "      <th>mpg</th>\n",
              "    </tr>\n",
              "  </thead>\n",
              "  <tbody>\n",
              "    <tr>\n",
              "      <th>1</th>\n",
              "      <td>SUV / Crossover</td>\n",
              "      <td>San Juan</td>\n",
              "      <td>I4</td>\n",
              "      <td>2.0</td>\n",
              "      <td>NaN</td>\n",
              "      <td>Gasoline</td>\n",
              "      <td>NaN</td>\n",
              "      <td>NaN</td>\n",
              "      <td>True</td>\n",
              "      <td>Land Rover</td>\n",
              "      <td>7.0</td>\n",
              "      <td>8.0</td>\n",
              "      <td>Discovery Sport</td>\n",
              "      <td>46500.0</td>\n",
              "      <td>3.0</td>\n",
              "      <td>Automatic</td>\n",
              "      <td>AWD</td>\n",
              "      <td>2020</td>\n",
              "      <td>NaN</td>\n",
              "    </tr>\n",
              "    <tr>\n",
              "      <th>3</th>\n",
              "      <td>SUV / Crossover</td>\n",
              "      <td>San Juan</td>\n",
              "      <td>V6</td>\n",
              "      <td>3.0</td>\n",
              "      <td>NaN</td>\n",
              "      <td>Gasoline</td>\n",
              "      <td>NaN</td>\n",
              "      <td>NaN</td>\n",
              "      <td>True</td>\n",
              "      <td>Land Rover</td>\n",
              "      <td>7.0</td>\n",
              "      <td>11.0</td>\n",
              "      <td>Discovery</td>\n",
              "      <td>67430.0</td>\n",
              "      <td>3.0</td>\n",
              "      <td>Automatic</td>\n",
              "      <td>AWD</td>\n",
              "      <td>2020</td>\n",
              "      <td>NaN</td>\n",
              "    </tr>\n",
              "    <tr>\n",
              "      <th>4</th>\n",
              "      <td>SUV / Crossover</td>\n",
              "      <td>San Juan</td>\n",
              "      <td>I4</td>\n",
              "      <td>2.0</td>\n",
              "      <td>NaN</td>\n",
              "      <td>Gasoline</td>\n",
              "      <td>NaN</td>\n",
              "      <td>NaN</td>\n",
              "      <td>True</td>\n",
              "      <td>Land Rover</td>\n",
              "      <td>7.0</td>\n",
              "      <td>7.0</td>\n",
              "      <td>Discovery Sport</td>\n",
              "      <td>48880.0</td>\n",
              "      <td>3.0</td>\n",
              "      <td>Automatic</td>\n",
              "      <td>AWD</td>\n",
              "      <td>2020</td>\n",
              "      <td>NaN</td>\n",
              "    </tr>\n",
              "    <tr>\n",
              "      <th>5</th>\n",
              "      <td>SUV / Crossover</td>\n",
              "      <td>San Juan</td>\n",
              "      <td>I4</td>\n",
              "      <td>2.0</td>\n",
              "      <td>False</td>\n",
              "      <td>Gasoline</td>\n",
              "      <td>False</td>\n",
              "      <td>False</td>\n",
              "      <td>True</td>\n",
              "      <td>Land Rover</td>\n",
              "      <td>5.0</td>\n",
              "      <td>12.0</td>\n",
              "      <td>Range Rover Velar</td>\n",
              "      <td>66903.0</td>\n",
              "      <td>3.0</td>\n",
              "      <td>Automatic</td>\n",
              "      <td>AWD</td>\n",
              "      <td>2020</td>\n",
              "      <td>NaN</td>\n",
              "    </tr>\n",
              "    <tr>\n",
              "      <th>7</th>\n",
              "      <td>SUV / Crossover</td>\n",
              "      <td>San Juan</td>\n",
              "      <td>I4</td>\n",
              "      <td>2.0</td>\n",
              "      <td>NaN</td>\n",
              "      <td>Gasoline</td>\n",
              "      <td>NaN</td>\n",
              "      <td>NaN</td>\n",
              "      <td>True</td>\n",
              "      <td>Land Rover</td>\n",
              "      <td>5.0</td>\n",
              "      <td>11.0</td>\n",
              "      <td>Range Rover Velar</td>\n",
              "      <td>68520.0</td>\n",
              "      <td>3.0</td>\n",
              "      <td>Automatic</td>\n",
              "      <td>AWD</td>\n",
              "      <td>2020</td>\n",
              "      <td>NaN</td>\n",
              "    </tr>\n",
              "  </tbody>\n",
              "</table>\n",
              "</div>\n",
              "      <button class=\"colab-df-convert\" onclick=\"convertToInteractive('df-32ba55d0-2445-453d-b27f-3a03b913a513')\"\n",
              "              title=\"Convert this dataframe to an interactive table.\"\n",
              "              style=\"display:none;\">\n",
              "        \n",
              "  <svg xmlns=\"http://www.w3.org/2000/svg\" height=\"24px\"viewBox=\"0 0 24 24\"\n",
              "       width=\"24px\">\n",
              "    <path d=\"M0 0h24v24H0V0z\" fill=\"none\"/>\n",
              "    <path d=\"M18.56 5.44l.94 2.06.94-2.06 2.06-.94-2.06-.94-.94-2.06-.94 2.06-2.06.94zm-11 1L8.5 8.5l.94-2.06 2.06-.94-2.06-.94L8.5 2.5l-.94 2.06-2.06.94zm10 10l.94 2.06.94-2.06 2.06-.94-2.06-.94-.94-2.06-.94 2.06-2.06.94z\"/><path d=\"M17.41 7.96l-1.37-1.37c-.4-.4-.92-.59-1.43-.59-.52 0-1.04.2-1.43.59L10.3 9.45l-7.72 7.72c-.78.78-.78 2.05 0 2.83L4 21.41c.39.39.9.59 1.41.59.51 0 1.02-.2 1.41-.59l7.78-7.78 2.81-2.81c.8-.78.8-2.07 0-2.86zM5.41 20L4 18.59l7.72-7.72 1.47 1.35L5.41 20z\"/>\n",
              "  </svg>\n",
              "      </button>\n",
              "      \n",
              "  <style>\n",
              "    .colab-df-container {\n",
              "      display:flex;\n",
              "      flex-wrap:wrap;\n",
              "      gap: 12px;\n",
              "    }\n",
              "\n",
              "    .colab-df-convert {\n",
              "      background-color: #E8F0FE;\n",
              "      border: none;\n",
              "      border-radius: 50%;\n",
              "      cursor: pointer;\n",
              "      display: none;\n",
              "      fill: #1967D2;\n",
              "      height: 32px;\n",
              "      padding: 0 0 0 0;\n",
              "      width: 32px;\n",
              "    }\n",
              "\n",
              "    .colab-df-convert:hover {\n",
              "      background-color: #E2EBFA;\n",
              "      box-shadow: 0px 1px 2px rgba(60, 64, 67, 0.3), 0px 1px 3px 1px rgba(60, 64, 67, 0.15);\n",
              "      fill: #174EA6;\n",
              "    }\n",
              "\n",
              "    [theme=dark] .colab-df-convert {\n",
              "      background-color: #3B4455;\n",
              "      fill: #D2E3FC;\n",
              "    }\n",
              "\n",
              "    [theme=dark] .colab-df-convert:hover {\n",
              "      background-color: #434B5C;\n",
              "      box-shadow: 0px 1px 3px 1px rgba(0, 0, 0, 0.15);\n",
              "      filter: drop-shadow(0px 1px 2px rgba(0, 0, 0, 0.3));\n",
              "      fill: #FFFFFF;\n",
              "    }\n",
              "  </style>\n",
              "\n",
              "      <script>\n",
              "        const buttonEl =\n",
              "          document.querySelector('#df-32ba55d0-2445-453d-b27f-3a03b913a513 button.colab-df-convert');\n",
              "        buttonEl.style.display =\n",
              "          google.colab.kernel.accessAllowed ? 'block' : 'none';\n",
              "\n",
              "        async function convertToInteractive(key) {\n",
              "          const element = document.querySelector('#df-32ba55d0-2445-453d-b27f-3a03b913a513');\n",
              "          const dataTable =\n",
              "            await google.colab.kernel.invokeFunction('convertToInteractive',\n",
              "                                                     [key], {});\n",
              "          if (!dataTable) return;\n",
              "\n",
              "          const docLinkHtml = 'Like what you see? Visit the ' +\n",
              "            '<a target=\"_blank\" href=https://colab.research.google.com/notebooks/data_table.ipynb>data table notebook</a>'\n",
              "            + ' to learn more about interactive tables.';\n",
              "          element.innerHTML = '';\n",
              "          dataTable['output_type'] = 'display_data';\n",
              "          await google.colab.output.renderOutput(dataTable, element);\n",
              "          const docLink = document.createElement('div');\n",
              "          docLink.innerHTML = docLinkHtml;\n",
              "          element.appendChild(docLink);\n",
              "        }\n",
              "      </script>\n",
              "    </div>\n",
              "  </div>\n",
              "  "
            ],
            "text/plain": [
              "         body_type      city engine_cylinders  engine_size frame_damaged  \\\n",
              "1  SUV / Crossover  San Juan               I4          2.0           NaN   \n",
              "3  SUV / Crossover  San Juan               V6          3.0           NaN   \n",
              "4  SUV / Crossover  San Juan               I4          2.0           NaN   \n",
              "5  SUV / Crossover  San Juan               I4          2.0         False   \n",
              "7  SUV / Crossover  San Juan               I4          2.0           NaN   \n",
              "\n",
              "  fuel_type has_accidents  isCab is_new   make_name  maximum_seating  mileage  \\\n",
              "1  Gasoline           NaN    NaN   True  Land Rover              7.0      8.0   \n",
              "3  Gasoline           NaN    NaN   True  Land Rover              7.0     11.0   \n",
              "4  Gasoline           NaN    NaN   True  Land Rover              7.0      7.0   \n",
              "5  Gasoline         False  False   True  Land Rover              5.0     12.0   \n",
              "7  Gasoline           NaN    NaN   True  Land Rover              5.0     11.0   \n",
              "\n",
              "          model_name    price  seller_rating transmission Drivetrain  year  \\\n",
              "1    Discovery Sport  46500.0            3.0    Automatic        AWD  2020   \n",
              "3          Discovery  67430.0            3.0    Automatic        AWD  2020   \n",
              "4    Discovery Sport  48880.0            3.0    Automatic        AWD  2020   \n",
              "5  Range Rover Velar  66903.0            3.0    Automatic        AWD  2020   \n",
              "7  Range Rover Velar  68520.0            3.0    Automatic        AWD  2020   \n",
              "\n",
              "   mpg  \n",
              "1  NaN  \n",
              "3  NaN  \n",
              "4  NaN  \n",
              "5  NaN  \n",
              "7  NaN  "
            ]
          },
          "execution_count": 16,
          "metadata": {},
          "output_type": "execute_result"
        }
      ],
      "source": [
        "cleaned_data.head()"
      ]
    },
    {
      "cell_type": "code",
      "execution_count": null,
      "metadata": {
        "id": "McEqgnBJpvby"
      },
      "outputs": [],
      "source": [
        "cleaned_data.to_csv(\"used_data_interim.csv\")"
      ]
    },
    {
      "cell_type": "code",
      "execution_count": null,
      "metadata": {
        "colab": {
          "base_uri": "https://localhost:8080/"
        },
        "id": "CaEHnsJ2oStt",
        "outputId": "d89077e0-01f1-46e5-ceef-8b2208e74b2a"
      },
      "outputs": [
        {
          "data": {
            "text/plain": [
              "(2787109, 19)"
            ]
          },
          "execution_count": 41,
          "metadata": {},
          "output_type": "execute_result"
        }
      ],
      "source": [
        "cleaned_data.shape"
      ]
    },
    {
      "cell_type": "markdown",
      "metadata": {
        "id": "KvLD-ermtsZM"
      },
      "source": [
        "# Dealing with missing values"
      ]
    },
    {
      "cell_type": "markdown",
      "metadata": {
        "id": "U_z82XHndyy-"
      },
      "source": [
        "## Removing datapoint with high record of missing value"
      ]
    },
    {
      "cell_type": "code",
      "execution_count": null,
      "metadata": {
        "id": "8fVr_RekH--q"
      },
      "outputs": [],
      "source": [
        "# def del_records(data, thresh: int):\n",
        "#     \"\"\"Removes datapoint with number of missing records exceeding the threshold given\n",
        "\n",
        "#     Args:\n",
        "#         thresh (int): Threshold for which the datapoint is deleted\n",
        "#     Raises:\n",
        "#         ValueError: if the threshold given is more than the number of rows in the dataframe\n",
        "#     \"\"\"\n",
        "#     if thresh > len(data.columns):\n",
        "#         raise ValueError(f\"Threshold is more than the size of the dataframe row Please choose between 1 and {len(data.columns)}\")\n",
        "#     index = []\n",
        "#     print(\"<number of records: {}>\".format(len(data)))\n",
        "#     print(\"----------------------------------------------------\")\n",
        "#     print(\"|               Datapoint Deletion                   |\")\n",
        "#     print(\"----------------------------------------------------\")\n",
        "#     start = time.time()\n",
        "#     for i in range(len(data)):\n",
        "#         missing_ = 0\n",
        "#         for j in range(len(data.columns)):\n",
        "#             if pd.isna(data.iloc[i,j]) == True:\n",
        "#                 missing_ +=1\n",
        "                \n",
        "#         if missing_ >= thresh:\n",
        "#             data = data.drop(int(i))\n",
        "#             # index.append(str(i))\n",
        "#             print(\"Progress: removed index {}\".format(i))\n",
        "#         missing_ = 0\n",
        "\n",
        "#     end = time.time()\n",
        "#     print(\"----------------------------------------------------------------------\")\n",
        "#     print(\"Done!...Number of Records removed: {} | Time Taken {}\".format(len(index),str(end-start)))\n",
        "#     print(\"-----------------------------------------------------------------------\")\n",
        "#     return data\n",
        "\n",
        "# indexes = del_records(dummy,thresh=2)"
      ]
    },
    {
      "cell_type": "markdown",
      "metadata": {
        "id": "M-d-KwRWiDZp"
      },
      "source": [
        "## Imputing missing values"
      ]
    },
    {
      "cell_type": "code",
      "execution_count": 17,
      "metadata": {
        "id": "Wruvw85htxSi"
      },
      "outputs": [],
      "source": [
        "def rec_missing_values(new_data):\n",
        "\n",
        "    # Trimming some records with null val\n",
        "    new_data = new_data[new_data[\"body_type\"].notnull()]\n",
        "    new_data = new_data[new_data[\"transmission\"].notnull()]\n",
        "    new_data = new_data[new_data[\"Drivetrain\"].notnull()]\n",
        "\n",
        "\n",
        "    new_data[\"seller_rating\"] = new_data[\"seller_rating\"].fillna(new_data[\"seller_rating\"].mean())\n",
        "    new_data[\"isCab\"] = new_data[\"isCab\"].fillna(new_data[\"isCab\"].mode()[0])\n",
        "    new_data[\"is_new\"] = new_data[\"is_new\"].fillna(new_data[\"is_new\"].mode()[0])\n",
        "    new_data[\"maximum_seating\"] = new_data[\"maximum_seating\"].fillna(new_data[\"maximum_seating\"].mode()[0])\n",
        "    new_data[\"mileage\"] = new_data[\"mileage\"].fillna(new_data[\"mileage\"].mean())\n",
        "    new_data[\"has_accidents\"] = new_data[\"has_accidents\"].fillna(new_data[\"has_accidents\"].mode()[0])\n",
        "    new_data[\"fuel_type\"] = new_data[\"fuel_type\"].fillna(new_data[\"fuel_type\"].mode()[0])\n",
        "    new_data[\"engine_cylinders\"] = new_data[\"engine_cylinders\"].fillna(new_data[\"engine_cylinders\"].mode()[0])\n",
        "    new_data[\"engine_size\"] = new_data[\"engine_size\"].fillna(new_data[\"engine_size\"].mode()[0])\n",
        "    new_data[\"mpg\"] = new_data[\"mpg\"].fillna(new_data[\"mpg\"].mode()[0])\n",
        "    \n",
        "    new_data = new_data.drop(columns=[\"frame_damaged\"])\n",
        "    return new_data\n",
        "imputed_data = rec_missing_values(cleaned_data)"
      ]
    },
    {
      "cell_type": "code",
      "execution_count": null,
      "metadata": {
        "colab": {
          "base_uri": "https://localhost:8080/",
          "height": 356
        },
        "id": "rhYcCIDB_oFZ",
        "outputId": "0703806e-6309-4683-d14b-4d1ef2a5f5c5"
      },
      "outputs": [
        {
          "data": {
            "text/html": [
              "\n",
              "  <div id=\"df-8e8e7a2c-38b3-49b7-b86a-d11e11868ff7\">\n",
              "    <div class=\"colab-df-container\">\n",
              "      <div>\n",
              "<style scoped>\n",
              "    .dataframe tbody tr th:only-of-type {\n",
              "        vertical-align: middle;\n",
              "    }\n",
              "\n",
              "    .dataframe tbody tr th {\n",
              "        vertical-align: top;\n",
              "    }\n",
              "\n",
              "    .dataframe thead th {\n",
              "        text-align: right;\n",
              "    }\n",
              "</style>\n",
              "<table border=\"1\" class=\"dataframe\">\n",
              "  <thead>\n",
              "    <tr style=\"text-align: right;\">\n",
              "      <th></th>\n",
              "      <th>body_type</th>\n",
              "      <th>city</th>\n",
              "      <th>engine_cylinders</th>\n",
              "      <th>engine_size</th>\n",
              "      <th>fuel_type</th>\n",
              "      <th>has_accidents</th>\n",
              "      <th>isCab</th>\n",
              "      <th>is_new</th>\n",
              "      <th>listed_date</th>\n",
              "      <th>make_name</th>\n",
              "      <th>maximum_seating</th>\n",
              "      <th>mileage</th>\n",
              "      <th>model_name</th>\n",
              "      <th>price</th>\n",
              "      <th>seller_rating</th>\n",
              "      <th>transmission</th>\n",
              "      <th>Drivetrain</th>\n",
              "      <th>year</th>\n",
              "      <th>mpg</th>\n",
              "    </tr>\n",
              "  </thead>\n",
              "  <tbody>\n",
              "    <tr>\n",
              "      <th>1</th>\n",
              "      <td>SUV / Crossover</td>\n",
              "      <td>San Juan</td>\n",
              "      <td>I4</td>\n",
              "      <td>2.0</td>\n",
              "      <td>Gasoline</td>\n",
              "      <td>False</td>\n",
              "      <td>False</td>\n",
              "      <td>True</td>\n",
              "      <td>2020-02-15</td>\n",
              "      <td>Land Rover</td>\n",
              "      <td>7.0</td>\n",
              "      <td>8.0</td>\n",
              "      <td>Discovery Sport</td>\n",
              "      <td>46500.0</td>\n",
              "      <td>3.0</td>\n",
              "      <td>Automatic</td>\n",
              "      <td>AWD</td>\n",
              "      <td>2020</td>\n",
              "      <td>28.5</td>\n",
              "    </tr>\n",
              "    <tr>\n",
              "      <th>3</th>\n",
              "      <td>SUV / Crossover</td>\n",
              "      <td>San Juan</td>\n",
              "      <td>V6</td>\n",
              "      <td>3.0</td>\n",
              "      <td>Gasoline</td>\n",
              "      <td>False</td>\n",
              "      <td>False</td>\n",
              "      <td>True</td>\n",
              "      <td>2020-02-26</td>\n",
              "      <td>Land Rover</td>\n",
              "      <td>7.0</td>\n",
              "      <td>11.0</td>\n",
              "      <td>Discovery</td>\n",
              "      <td>67430.0</td>\n",
              "      <td>3.0</td>\n",
              "      <td>Automatic</td>\n",
              "      <td>AWD</td>\n",
              "      <td>2020</td>\n",
              "      <td>28.5</td>\n",
              "    </tr>\n",
              "    <tr>\n",
              "      <th>4</th>\n",
              "      <td>SUV / Crossover</td>\n",
              "      <td>San Juan</td>\n",
              "      <td>I4</td>\n",
              "      <td>2.0</td>\n",
              "      <td>Gasoline</td>\n",
              "      <td>False</td>\n",
              "      <td>False</td>\n",
              "      <td>True</td>\n",
              "      <td>2020-04-25</td>\n",
              "      <td>Land Rover</td>\n",
              "      <td>7.0</td>\n",
              "      <td>7.0</td>\n",
              "      <td>Discovery Sport</td>\n",
              "      <td>48880.0</td>\n",
              "      <td>3.0</td>\n",
              "      <td>Automatic</td>\n",
              "      <td>AWD</td>\n",
              "      <td>2020</td>\n",
              "      <td>28.5</td>\n",
              "    </tr>\n",
              "    <tr>\n",
              "      <th>5</th>\n",
              "      <td>SUV / Crossover</td>\n",
              "      <td>San Juan</td>\n",
              "      <td>I4</td>\n",
              "      <td>2.0</td>\n",
              "      <td>Gasoline</td>\n",
              "      <td>False</td>\n",
              "      <td>False</td>\n",
              "      <td>True</td>\n",
              "      <td>2020-01-11</td>\n",
              "      <td>Land Rover</td>\n",
              "      <td>5.0</td>\n",
              "      <td>12.0</td>\n",
              "      <td>Range Rover Velar</td>\n",
              "      <td>66903.0</td>\n",
              "      <td>3.0</td>\n",
              "      <td>Automatic</td>\n",
              "      <td>AWD</td>\n",
              "      <td>2020</td>\n",
              "      <td>28.5</td>\n",
              "    </tr>\n",
              "    <tr>\n",
              "      <th>7</th>\n",
              "      <td>SUV / Crossover</td>\n",
              "      <td>San Juan</td>\n",
              "      <td>I4</td>\n",
              "      <td>2.0</td>\n",
              "      <td>Gasoline</td>\n",
              "      <td>False</td>\n",
              "      <td>False</td>\n",
              "      <td>True</td>\n",
              "      <td>2020-07-01</td>\n",
              "      <td>Land Rover</td>\n",
              "      <td>5.0</td>\n",
              "      <td>11.0</td>\n",
              "      <td>Range Rover Velar</td>\n",
              "      <td>68520.0</td>\n",
              "      <td>3.0</td>\n",
              "      <td>Automatic</td>\n",
              "      <td>AWD</td>\n",
              "      <td>2020</td>\n",
              "      <td>28.5</td>\n",
              "    </tr>\n",
              "  </tbody>\n",
              "</table>\n",
              "</div>\n",
              "      <button class=\"colab-df-convert\" onclick=\"convertToInteractive('df-8e8e7a2c-38b3-49b7-b86a-d11e11868ff7')\"\n",
              "              title=\"Convert this dataframe to an interactive table.\"\n",
              "              style=\"display:none;\">\n",
              "        \n",
              "  <svg xmlns=\"http://www.w3.org/2000/svg\" height=\"24px\"viewBox=\"0 0 24 24\"\n",
              "       width=\"24px\">\n",
              "    <path d=\"M0 0h24v24H0V0z\" fill=\"none\"/>\n",
              "    <path d=\"M18.56 5.44l.94 2.06.94-2.06 2.06-.94-2.06-.94-.94-2.06-.94 2.06-2.06.94zm-11 1L8.5 8.5l.94-2.06 2.06-.94-2.06-.94L8.5 2.5l-.94 2.06-2.06.94zm10 10l.94 2.06.94-2.06 2.06-.94-2.06-.94-.94-2.06-.94 2.06-2.06.94z\"/><path d=\"M17.41 7.96l-1.37-1.37c-.4-.4-.92-.59-1.43-.59-.52 0-1.04.2-1.43.59L10.3 9.45l-7.72 7.72c-.78.78-.78 2.05 0 2.83L4 21.41c.39.39.9.59 1.41.59.51 0 1.02-.2 1.41-.59l7.78-7.78 2.81-2.81c.8-.78.8-2.07 0-2.86zM5.41 20L4 18.59l7.72-7.72 1.47 1.35L5.41 20z\"/>\n",
              "  </svg>\n",
              "      </button>\n",
              "      \n",
              "  <style>\n",
              "    .colab-df-container {\n",
              "      display:flex;\n",
              "      flex-wrap:wrap;\n",
              "      gap: 12px;\n",
              "    }\n",
              "\n",
              "    .colab-df-convert {\n",
              "      background-color: #E8F0FE;\n",
              "      border: none;\n",
              "      border-radius: 50%;\n",
              "      cursor: pointer;\n",
              "      display: none;\n",
              "      fill: #1967D2;\n",
              "      height: 32px;\n",
              "      padding: 0 0 0 0;\n",
              "      width: 32px;\n",
              "    }\n",
              "\n",
              "    .colab-df-convert:hover {\n",
              "      background-color: #E2EBFA;\n",
              "      box-shadow: 0px 1px 2px rgba(60, 64, 67, 0.3), 0px 1px 3px 1px rgba(60, 64, 67, 0.15);\n",
              "      fill: #174EA6;\n",
              "    }\n",
              "\n",
              "    [theme=dark] .colab-df-convert {\n",
              "      background-color: #3B4455;\n",
              "      fill: #D2E3FC;\n",
              "    }\n",
              "\n",
              "    [theme=dark] .colab-df-convert:hover {\n",
              "      background-color: #434B5C;\n",
              "      box-shadow: 0px 1px 3px 1px rgba(0, 0, 0, 0.15);\n",
              "      filter: drop-shadow(0px 1px 2px rgba(0, 0, 0, 0.3));\n",
              "      fill: #FFFFFF;\n",
              "    }\n",
              "  </style>\n",
              "\n",
              "      <script>\n",
              "        const buttonEl =\n",
              "          document.querySelector('#df-8e8e7a2c-38b3-49b7-b86a-d11e11868ff7 button.colab-df-convert');\n",
              "        buttonEl.style.display =\n",
              "          google.colab.kernel.accessAllowed ? 'block' : 'none';\n",
              "\n",
              "        async function convertToInteractive(key) {\n",
              "          const element = document.querySelector('#df-8e8e7a2c-38b3-49b7-b86a-d11e11868ff7');\n",
              "          const dataTable =\n",
              "            await google.colab.kernel.invokeFunction('convertToInteractive',\n",
              "                                                     [key], {});\n",
              "          if (!dataTable) return;\n",
              "\n",
              "          const docLinkHtml = 'Like what you see? Visit the ' +\n",
              "            '<a target=\"_blank\" href=https://colab.research.google.com/notebooks/data_table.ipynb>data table notebook</a>'\n",
              "            + ' to learn more about interactive tables.';\n",
              "          element.innerHTML = '';\n",
              "          dataTable['output_type'] = 'display_data';\n",
              "          await google.colab.output.renderOutput(dataTable, element);\n",
              "          const docLink = document.createElement('div');\n",
              "          docLink.innerHTML = docLinkHtml;\n",
              "          element.appendChild(docLink);\n",
              "        }\n",
              "      </script>\n",
              "    </div>\n",
              "  </div>\n",
              "  "
            ],
            "text/plain": [
              "         body_type      city engine_cylinders  engine_size fuel_type  \\\n",
              "1  SUV / Crossover  San Juan               I4          2.0  Gasoline   \n",
              "3  SUV / Crossover  San Juan               V6          3.0  Gasoline   \n",
              "4  SUV / Crossover  San Juan               I4          2.0  Gasoline   \n",
              "5  SUV / Crossover  San Juan               I4          2.0  Gasoline   \n",
              "7  SUV / Crossover  San Juan               I4          2.0  Gasoline   \n",
              "\n",
              "   has_accidents  isCab is_new listed_date   make_name  maximum_seating  \\\n",
              "1          False  False   True  2020-02-15  Land Rover              7.0   \n",
              "3          False  False   True  2020-02-26  Land Rover              7.0   \n",
              "4          False  False   True  2020-04-25  Land Rover              7.0   \n",
              "5          False  False   True  2020-01-11  Land Rover              5.0   \n",
              "7          False  False   True  2020-07-01  Land Rover              5.0   \n",
              "\n",
              "   mileage         model_name    price  seller_rating transmission Drivetrain  \\\n",
              "1      8.0    Discovery Sport  46500.0            3.0    Automatic        AWD   \n",
              "3     11.0          Discovery  67430.0            3.0    Automatic        AWD   \n",
              "4      7.0    Discovery Sport  48880.0            3.0    Automatic        AWD   \n",
              "5     12.0  Range Rover Velar  66903.0            3.0    Automatic        AWD   \n",
              "7     11.0  Range Rover Velar  68520.0            3.0    Automatic        AWD   \n",
              "\n",
              "   year   mpg  \n",
              "1  2020  28.5  \n",
              "3  2020  28.5  \n",
              "4  2020  28.5  \n",
              "5  2020  28.5  \n",
              "7  2020  28.5  "
            ]
          },
          "execution_count": 9,
          "metadata": {},
          "output_type": "execute_result"
        }
      ],
      "source": [
        "imputed_data.head()"
      ]
    },
    {
      "cell_type": "markdown",
      "metadata": {
        "id": "VoLQqXTpb15S"
      },
      "source": [
        "# Feature Engineering\n",
        "\n",
        "- Automating more feature using the Deep Feature Synthesis"
      ]
    },
    {
      "cell_type": "code",
      "execution_count": 1,
      "metadata": {
        "colab": {
          "base_uri": "https://localhost:8080/",
          "height": 1000
        },
        "id": "HC3dwigNLBLP",
        "outputId": "720deef2-1739-4609-b4d5-dfd062a6069b"
      },
      "outputs": [
        {
          "name": "stdout",
          "output_type": "stream",
          "text": [
            "Collecting featuretools\n",
            "  Downloading featuretools-1.3.0-py3-none-any.whl (336 kB)\n",
            "\u001b[?25l\r\u001b[K     |█                               | 10 kB 32.3 MB/s eta 0:00:01\r\u001b[K     |██                              | 20 kB 20.3 MB/s eta 0:00:01\r\u001b[K     |███                             | 30 kB 15.8 MB/s eta 0:00:01\r\u001b[K     |████                            | 40 kB 13.9 MB/s eta 0:00:01\r\u001b[K     |████▉                           | 51 kB 5.5 MB/s eta 0:00:01\r\u001b[K     |█████▉                          | 61 kB 5.9 MB/s eta 0:00:01\r\u001b[K     |██████▉                         | 71 kB 5.4 MB/s eta 0:00:01\r\u001b[K     |███████▉                        | 81 kB 6.1 MB/s eta 0:00:01\r\u001b[K     |████████▊                       | 92 kB 6.4 MB/s eta 0:00:01\r\u001b[K     |█████████▊                      | 102 kB 5.3 MB/s eta 0:00:01\r\u001b[K     |██████████▊                     | 112 kB 5.3 MB/s eta 0:00:01\r\u001b[K     |███████████▊                    | 122 kB 5.3 MB/s eta 0:00:01\r\u001b[K     |████████████▋                   | 133 kB 5.3 MB/s eta 0:00:01\r\u001b[K     |█████████████▋                  | 143 kB 5.3 MB/s eta 0:00:01\r\u001b[K     |██████████████▋                 | 153 kB 5.3 MB/s eta 0:00:01\r\u001b[K     |███████████████▋                | 163 kB 5.3 MB/s eta 0:00:01\r\u001b[K     |████████████████▌               | 174 kB 5.3 MB/s eta 0:00:01\r\u001b[K     |█████████████████▌              | 184 kB 5.3 MB/s eta 0:00:01\r\u001b[K     |██████████████████▌             | 194 kB 5.3 MB/s eta 0:00:01\r\u001b[K     |███████████████████▌            | 204 kB 5.3 MB/s eta 0:00:01\r\u001b[K     |████████████████████▍           | 215 kB 5.3 MB/s eta 0:00:01\r\u001b[K     |█████████████████████▍          | 225 kB 5.3 MB/s eta 0:00:01\r\u001b[K     |██████████████████████▍         | 235 kB 5.3 MB/s eta 0:00:01\r\u001b[K     |███████████████████████▍        | 245 kB 5.3 MB/s eta 0:00:01\r\u001b[K     |████████████████████████▎       | 256 kB 5.3 MB/s eta 0:00:01\r\u001b[K     |█████████████████████████▎      | 266 kB 5.3 MB/s eta 0:00:01\r\u001b[K     |██████████████████████████▎     | 276 kB 5.3 MB/s eta 0:00:01\r\u001b[K     |███████████████████████████▎    | 286 kB 5.3 MB/s eta 0:00:01\r\u001b[K     |████████████████████████████▏   | 296 kB 5.3 MB/s eta 0:00:01\r\u001b[K     |█████████████████████████████▏  | 307 kB 5.3 MB/s eta 0:00:01\r\u001b[K     |██████████████████████████████▏ | 317 kB 5.3 MB/s eta 0:00:01\r\u001b[K     |███████████████████████████████▏| 327 kB 5.3 MB/s eta 0:00:01\r\u001b[K     |████████████████████████████████| 336 kB 5.3 MB/s \n",
            "\u001b[?25hRequirement already satisfied: scipy>=1.3.2 in /usr/local/lib/python3.7/dist-packages (from featuretools) (1.4.1)\n",
            "Collecting woodwork>=0.8.1\n",
            "  Downloading woodwork-0.11.1-py3-none-any.whl (160 kB)\n",
            "\u001b[K     |████████████████████████████████| 160 kB 38.1 MB/s \n",
            "\u001b[?25hCollecting psutil>=5.6.6\n",
            "  Downloading psutil-5.9.0-cp37-cp37m-manylinux_2_12_x86_64.manylinux2010_x86_64.manylinux_2_17_x86_64.manylinux2014_x86_64.whl (280 kB)\n",
            "\u001b[K     |████████████████████████████████| 280 kB 50.9 MB/s \n",
            "\u001b[?25hCollecting pandas<2.0.0,>=1.3.0\n",
            "  Downloading pandas-1.3.5-cp37-cp37m-manylinux_2_17_x86_64.manylinux2014_x86_64.whl (11.3 MB)\n",
            "\u001b[K     |████████████████████████████████| 11.3 MB 49.8 MB/s \n",
            "\u001b[?25hCollecting distributed>=2021.10.0\n",
            "  Downloading distributed-2021.12.0-py3-none-any.whl (802 kB)\n",
            "\u001b[K     |████████████████████████████████| 802 kB 54.7 MB/s \n",
            "\u001b[?25hCollecting dask[dataframe]>=2021.10.0\n",
            "  Downloading dask-2021.12.0-py3-none-any.whl (1.0 MB)\n",
            "\u001b[K     |████████████████████████████████| 1.0 MB 54.3 MB/s \n",
            "\u001b[?25hRequirement already satisfied: tqdm>=4.32.0 in /usr/local/lib/python3.7/dist-packages (from featuretools) (4.62.3)\n",
            "Collecting cloudpickle>=1.5.0\n",
            "  Downloading cloudpickle-2.0.0-py3-none-any.whl (25 kB)\n",
            "Collecting pyyaml>=5.4\n",
            "  Downloading PyYAML-6.0-cp37-cp37m-manylinux_2_5_x86_64.manylinux1_x86_64.manylinux_2_12_x86_64.manylinux2010_x86_64.whl (596 kB)\n",
            "\u001b[K     |████████████████████████████████| 596 kB 49.9 MB/s \n",
            "\u001b[?25hRequirement already satisfied: click>=7.0.0 in /usr/local/lib/python3.7/dist-packages (from featuretools) (7.1.2)\n",
            "Requirement already satisfied: numpy>=1.18.0 in /usr/local/lib/python3.7/dist-packages (from featuretools) (1.19.5)\n",
            "Collecting partd>=0.3.10\n",
            "  Downloading partd-1.2.0-py3-none-any.whl (19 kB)\n",
            "Collecting fsspec>=0.6.0\n",
            "  Downloading fsspec-2021.11.1-py3-none-any.whl (132 kB)\n",
            "\u001b[K     |████████████████████████████████| 132 kB 53.2 MB/s \n",
            "\u001b[?25hRequirement already satisfied: toolz>=0.8.2 in /usr/local/lib/python3.7/dist-packages (from dask[dataframe]>=2021.10.0->featuretools) (0.11.2)\n",
            "Requirement already satisfied: packaging>=20.0 in /usr/local/lib/python3.7/dist-packages (from dask[dataframe]>=2021.10.0->featuretools) (21.3)\n",
            "Requirement already satisfied: zict>=0.1.3 in /usr/local/lib/python3.7/dist-packages (from distributed>=2021.10.0->featuretools) (2.0.0)\n",
            "Requirement already satisfied: tornado>=5 in /usr/local/lib/python3.7/dist-packages (from distributed>=2021.10.0->featuretools) (5.1.1)\n",
            "Requirement already satisfied: tblib>=1.6.0 in /usr/local/lib/python3.7/dist-packages (from distributed>=2021.10.0->featuretools) (1.7.0)\n",
            "Requirement already satisfied: setuptools in /usr/local/lib/python3.7/dist-packages (from distributed>=2021.10.0->featuretools) (57.4.0)\n",
            "Requirement already satisfied: sortedcontainers!=2.0.0,!=2.0.1 in /usr/local/lib/python3.7/dist-packages (from distributed>=2021.10.0->featuretools) (2.4.0)\n",
            "Requirement already satisfied: jinja2 in /usr/local/lib/python3.7/dist-packages (from distributed>=2021.10.0->featuretools) (2.11.3)\n",
            "Requirement already satisfied: msgpack>=0.6.0 in /usr/local/lib/python3.7/dist-packages (from distributed>=2021.10.0->featuretools) (1.0.3)\n",
            "Requirement already satisfied: pyparsing!=3.0.5,>=2.0.2 in /usr/local/lib/python3.7/dist-packages (from packaging>=20.0->dask[dataframe]>=2021.10.0->featuretools) (3.0.6)\n",
            "Requirement already satisfied: pytz>=2017.3 in /usr/local/lib/python3.7/dist-packages (from pandas<2.0.0,>=1.3.0->featuretools) (2018.9)\n",
            "Requirement already satisfied: python-dateutil>=2.7.3 in /usr/local/lib/python3.7/dist-packages (from pandas<2.0.0,>=1.3.0->featuretools) (2.8.2)\n",
            "Collecting locket\n",
            "  Downloading locket-0.2.1-py2.py3-none-any.whl (4.1 kB)\n",
            "Requirement already satisfied: six>=1.5 in /usr/local/lib/python3.7/dist-packages (from python-dateutil>=2.7.3->pandas<2.0.0,>=1.3.0->featuretools) (1.15.0)\n",
            "Requirement already satisfied: scikit-learn>=0.22 in /usr/local/lib/python3.7/dist-packages (from woodwork>=0.8.1->featuretools) (1.0.1)\n",
            "Requirement already satisfied: joblib>=0.11 in /usr/local/lib/python3.7/dist-packages (from scikit-learn>=0.22->woodwork>=0.8.1->featuretools) (1.1.0)\n",
            "Requirement already satisfied: threadpoolctl>=2.0.0 in /usr/local/lib/python3.7/dist-packages (from scikit-learn>=0.22->woodwork>=0.8.1->featuretools) (3.0.0)\n",
            "Requirement already satisfied: heapdict in /usr/local/lib/python3.7/dist-packages (from zict>=0.1.3->distributed>=2021.10.0->featuretools) (1.0.1)\n",
            "Requirement already satisfied: MarkupSafe>=0.23 in /usr/local/lib/python3.7/dist-packages (from jinja2->distributed>=2021.10.0->featuretools) (2.0.1)\n",
            "Installing collected packages: locket, pyyaml, partd, fsspec, cloudpickle, psutil, pandas, dask, woodwork, distributed, featuretools\n",
            "  Attempting uninstall: pyyaml\n",
            "    Found existing installation: PyYAML 3.13\n",
            "    Uninstalling PyYAML-3.13:\n",
            "      Successfully uninstalled PyYAML-3.13\n",
            "  Attempting uninstall: cloudpickle\n",
            "    Found existing installation: cloudpickle 1.3.0\n",
            "    Uninstalling cloudpickle-1.3.0:\n",
            "      Successfully uninstalled cloudpickle-1.3.0\n",
            "  Attempting uninstall: psutil\n",
            "    Found existing installation: psutil 5.4.8\n",
            "    Uninstalling psutil-5.4.8:\n",
            "      Successfully uninstalled psutil-5.4.8\n",
            "  Attempting uninstall: pandas\n",
            "    Found existing installation: pandas 1.1.5\n",
            "    Uninstalling pandas-1.1.5:\n",
            "      Successfully uninstalled pandas-1.1.5\n",
            "  Attempting uninstall: dask\n",
            "    Found existing installation: dask 2.12.0\n",
            "    Uninstalling dask-2.12.0:\n",
            "      Successfully uninstalled dask-2.12.0\n",
            "  Attempting uninstall: distributed\n",
            "    Found existing installation: distributed 1.25.3\n",
            "    Uninstalling distributed-1.25.3:\n",
            "      Successfully uninstalled distributed-1.25.3\n",
            "\u001b[31mERROR: pip's dependency resolver does not currently take into account all the packages that are installed. This behaviour is the source of the following dependency conflicts.\n",
            "gym 0.17.3 requires cloudpickle<1.7.0,>=1.2.0, but you have cloudpickle 2.0.0 which is incompatible.\n",
            "google-colab 1.0.0 requires pandas~=1.1.0; python_version >= \"3.0\", but you have pandas 1.3.5 which is incompatible.\u001b[0m\n",
            "Successfully installed cloudpickle-2.0.0 dask-2021.12.0 distributed-2021.12.0 featuretools-1.3.0 fsspec-2021.11.1 locket-0.2.1 pandas-1.3.5 partd-1.2.0 psutil-5.9.0 pyyaml-6.0 woodwork-0.11.1\n"
          ]
        },
        {
          "data": {
            "application/vnd.colab-display-data+json": {
              "pip_warning": {
                "packages": [
                  "pandas",
                  "psutil"
                ]
              }
            }
          },
          "metadata": {},
          "output_type": "display_data"
        }
      ],
      "source": [
        "! pip install featuretools"
      ]
    },
    {
      "cell_type": "code",
      "execution_count": null,
      "metadata": {
        "id": "FjCXg6-5K5GL"
      },
      "outputs": [],
      "source": [
        "import featuretools as ft"
      ]
    },
    {
      "cell_type": "code",
      "execution_count": 19,
      "metadata": {
        "colab": {
          "base_uri": "https://localhost:8080/",
          "height": 245
        },
        "id": "ESmr7RcPJIlO",
        "outputId": "b568553b-337b-4c00-b1ce-31c3a9058deb"
      },
      "outputs": [
        {
          "ename": "AttributeError",
          "evalue": "ignored",
          "output_type": "error",
          "traceback": [
            "\u001b[0;31m---------------------------------------------------------------------------\u001b[0m",
            "\u001b[0;31mAttributeError\u001b[0m                            Traceback (most recent call last)",
            "\u001b[0;32m<ipython-input-19-aac3925926e6>\u001b[0m in \u001b[0;36m<module>\u001b[0;34m()\u001b[0m\n\u001b[1;32m      3\u001b[0m \u001b[0mes\u001b[0m \u001b[0;34m=\u001b[0m \u001b[0mft\u001b[0m\u001b[0;34m.\u001b[0m\u001b[0mEntitySet\u001b[0m\u001b[0;34m(\u001b[0m\u001b[0mid\u001b[0m \u001b[0;34m=\u001b[0m\u001b[0;34m'used_car'\u001b[0m\u001b[0;34m)\u001b[0m\u001b[0;34m\u001b[0m\u001b[0;34m\u001b[0m\u001b[0m\n\u001b[1;32m      4\u001b[0m \u001b[0;34m\u001b[0m\u001b[0m\n\u001b[0;32m----> 5\u001b[0;31m es.entity_from_dataframe(entity_id=\"used_car\",\n\u001b[0m\u001b[1;32m      6\u001b[0m                          \u001b[0mdataframe\u001b[0m\u001b[0;34m=\u001b[0m\u001b[0mdata\u001b[0m\u001b[0;34m,\u001b[0m\u001b[0;34m\u001b[0m\u001b[0;34m\u001b[0m\u001b[0m\n\u001b[1;32m      7\u001b[0m                          \u001b[0mindex\u001b[0m\u001b[0;34m=\u001b[0m\u001b[0;32mTrue\u001b[0m\u001b[0;34m,\u001b[0m\u001b[0;34m\u001b[0m\u001b[0;34m\u001b[0m\u001b[0m\n",
            "\u001b[0;31mAttributeError\u001b[0m: 'EntitySet' object has no attribute 'entity_from_dataframe'"
          ]
        }
      ],
      "source": [
        "import featuretools as ft\n",
        "\n",
        "def feature_synthesis(data):\n",
        "\n",
        "    es = ft.EntitySet(id ='used_car')\n",
        "\n",
        "        es.entity_from_dataframe(entity_id=\"used_car\",\n",
        "                                dataframe=data,\n",
        "                                index=True,\n",
        "                                Index=\"id\",\n",
        "                                time_index='listed_date')\n",
        "\n",
        "    # creating\n",
        "\n",
        "    # Adding relationship \n",
        "\n",
        "    es.add_relationship(parent_dataframe_name='used_car', \n",
        "                        parent_column_name='id', \n",
        "                        child_dataframe_name='listing', \n",
        "                        child_column_name='listing_id')\n",
        "\n",
        "\n",
        "    # Run deep feature synthesis with transformation primitives\n",
        "    # feature_matrix, feature_defs = ft.dfs(entityset = es, target_entity = 'used_car_data',\n",
        "                                        #   trans_primitives = ['add_numeric', 'multiply_numeric'])\n",
        "\n",
        "    # feature_matrix.head()"
      ]
    },
    {
      "cell_type": "code",
      "execution_count": null,
      "metadata": {
        "colab": {
          "base_uri": "https://localhost:8080/"
        },
        "id": "YLvYMnIWNrVw",
        "outputId": "7a1ef001-123e-4b3a-91b0-fee02070e3e1"
      },
      "outputs": [
        {
          "data": {
            "text/plain": [
              "Entityset: used_car\n",
              "  DataFrames:\n",
              "    used_car_data [Rows: 2598200, Columns: 20]\n",
              "  Relationships:\n",
              "    No relationships"
            ]
          },
          "execution_count": 22,
          "metadata": {},
          "output_type": "execute_result"
        }
      ],
      "source": [
        "es"
      ]
    }
  ],
  "metadata": {
    "accelerator": "GPU",
    "colab": {
      "collapsed_sections": [
        "U_z82XHndyy-"
      ],
      "name": "Used car data project.ipynb",
      "provenance": []
    },
    "kernelspec": {
      "display_name": "Python 3",
      "name": "python3"
    },
    "language_info": {
      "name": "python"
    }
  },
  "nbformat": 4,
  "nbformat_minor": 0
}
